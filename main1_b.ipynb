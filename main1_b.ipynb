{
 "cells": [
  {
   "cell_type": "markdown",
   "id": "de330997",
   "metadata": {},
   "source": [
    "---\n",
    "1.b\n",
    "---\n",
    "b) Considerando a infração mais recorrente, construa um mapa de calor que represente\n",
    "a distribuição espacial\n",
    "dos dados. Dica: Use o pacote leaflet.extras."
   ]
  },
  {
   "cell_type": "code",
   "execution_count": 1,
   "id": "a39ed122",
   "metadata": {},
   "outputs": [
    {
     "data": {
      "text/html": [
       "<style>\n",
       ".list-inline {list-style: none; margin:0; padding: 0}\n",
       ".list-inline>li {display: inline-block}\n",
       ".list-inline>li:not(:last-child)::after {content: \"\\00b7\"; padding: 0 .5ex}\n",
       "</style>\n",
       "<ol class=list-inline><li>63415</li><li>11</li></ol>\n"
      ],
      "text/latex": [
       "\\begin{enumerate*}\n",
       "\\item 63415\n",
       "\\item 11\n",
       "\\end{enumerate*}\n"
      ],
      "text/markdown": [
       "1. 63415\n",
       "2. 11\n",
       "\n",
       "\n"
      ],
      "text/plain": [
       "[1] 63415    11"
      ]
     },
     "metadata": {},
     "output_type": "display_data"
    }
   ],
   "source": [
    "library(data.table)\n",
    "\n",
    "# para ler e processar arquvos grandes data.table é otimo\n",
    "\n",
    "outubroReduzido <- fread(\"source/Dados_infracoes_outubro_reduzido_2019.csv\", encoding = \"Latin-1\")\n",
    "dim(outubroReduzido)"
   ]
  },
  {
   "cell_type": "markdown",
   "id": "50acc95b",
   "metadata": {},
   "source": [
    "VAMOS remover linhas com tipo_infracao == \"\""
   ]
  },
  {
   "cell_type": "code",
   "execution_count": 2,
   "id": "05b5e672",
   "metadata": {},
   "outputs": [],
   "source": [
    "outubroReduzido2 <- outubroReduzido[-which(outubroReduzido$tipo_infracao==\"\")]"
   ]
  },
  {
   "cell_type": "markdown",
   "id": "92457287",
   "metadata": {},
   "source": [
    "latitude conhecida"
   ]
  },
  {
   "cell_type": "code",
   "execution_count": 3,
   "id": "8851ed5f",
   "metadata": {},
   "outputs": [
    {
     "data": {
      "text/html": [
       "<style>\n",
       ".list-inline {list-style: none; margin:0; padding: 0}\n",
       ".list-inline>li {display: inline-block}\n",
       ".list-inline>li:not(:last-child)::after {content: \"\\00b7\"; padding: 0 .5ex}\n",
       "</style>\n",
       "<ol class=list-inline><li>9467</li><li>11</li></ol>\n"
      ],
      "text/latex": [
       "\\begin{enumerate*}\n",
       "\\item 9467\n",
       "\\item 11\n",
       "\\end{enumerate*}\n"
      ],
      "text/markdown": [
       "1. 9467\n",
       "2. 11\n",
       "\n",
       "\n"
      ],
      "text/plain": [
       "[1] 9467   11"
      ]
     },
     "metadata": {},
     "output_type": "display_data"
    }
   ],
   "source": [
    "outubroReduzido3 <- outubroReduzido2[-which(outubroReduzido2$auinf_local_latitude %in% c(0,\"\" ) ) ,]\n",
    "dim(outubroReduzido3)\n",
    "# 9467"
   ]
  },
  {
   "cell_type": "markdown",
   "id": "1c576ee3",
   "metadata": {},
   "source": [
    "# qual a infracao mais recorrente?"
   ]
  },
  {
   "cell_type": "code",
   "execution_count": 4,
   "id": "3323c822",
   "metadata": {},
   "outputs": [
    {
     "data": {
      "text/html": [
       "<table class=\"dataframe\">\n",
       "<caption>A data.table: 6 × 2</caption>\n",
       "<thead>\n",
       "\t<tr><th scope=col>tipo_infracao</th><th scope=col>count</th></tr>\n",
       "\t<tr><th scope=col>&lt;chr&gt;</th><th scope=col>&lt;int&gt;</th></tr>\n",
       "</thead>\n",
       "<tbody>\n",
       "\t<tr><td>6769-0</td><td>1362</td></tr>\n",
       "\t<tr><td>7633-2</td><td> 769</td></tr>\n",
       "\t<tr><td>7633-1</td><td> 759</td></tr>\n",
       "\t<tr><td>5185-1</td><td> 636</td></tr>\n",
       "\t<tr><td>5843-4</td><td> 514</td></tr>\n",
       "\t<tr><td>6599-2</td><td> 406</td></tr>\n",
       "</tbody>\n",
       "</table>\n"
      ],
      "text/latex": [
       "A data.table: 6 × 2\n",
       "\\begin{tabular}{ll}\n",
       " tipo\\_infracao & count\\\\\n",
       " <chr> & <int>\\\\\n",
       "\\hline\n",
       "\t 6769-0 & 1362\\\\\n",
       "\t 7633-2 &  769\\\\\n",
       "\t 7633-1 &  759\\\\\n",
       "\t 5185-1 &  636\\\\\n",
       "\t 5843-4 &  514\\\\\n",
       "\t 6599-2 &  406\\\\\n",
       "\\end{tabular}\n"
      ],
      "text/markdown": [
       "\n",
       "A data.table: 6 × 2\n",
       "\n",
       "| tipo_infracao &lt;chr&gt; | count &lt;int&gt; |\n",
       "|---|---|\n",
       "| 6769-0 | 1362 |\n",
       "| 7633-2 |  769 |\n",
       "| 7633-1 |  759 |\n",
       "| 5185-1 |  636 |\n",
       "| 5843-4 |  514 |\n",
       "| 6599-2 |  406 |\n",
       "\n"
      ],
      "text/plain": [
       "  tipo_infracao count\n",
       "1 6769-0        1362 \n",
       "2 7633-2         769 \n",
       "3 7633-1         759 \n",
       "4 5185-1         636 \n",
       "5 5843-4         514 \n",
       "6 6599-2         406 "
      ]
     },
     "metadata": {},
     "output_type": "display_data"
    },
    {
     "data": {
      "text/html": [
       "'6769-0'"
      ],
      "text/latex": [
       "'6769-0'"
      ],
      "text/markdown": [
       "'6769-0'"
      ],
      "text/plain": [
       "[1] \"6769-0\""
      ]
     },
     "metadata": {},
     "output_type": "display_data"
    }
   ],
   "source": [
    "infraFreq <- outubroReduzido3[, .(count = .N), by = list(tipo_infracao) ][order(-count)]\n",
    "head(infraFreq)\n",
    "maisfreq<-infraFreq[1]$tipo_infracao\n",
    "maisfreq\n",
    "# 6769-0"
   ]
  },
  {
   "cell_type": "markdown",
   "id": "dc63722e",
   "metadata": {},
   "source": [
    "# no meu sistema tenho que trocar , por ."
   ]
  },
  {
   "cell_type": "code",
   "execution_count": 5,
   "id": "2611f4b6",
   "metadata": {},
   "outputs": [],
   "source": [
    "{\n",
    "  outubroReduzido3$auinf_local_latitude<-gsub(\",\" , \".\",outubroReduzido3$auinf_local_latitude)\n",
    "  outubroReduzido3$auinf_local_latitude<-as.numeric(outubroReduzido3$auinf_local_latitude)\n",
    "\n",
    "  outubroReduzido3$auinf_local_longitude<-gsub(\",\",\".\",outubroReduzido3$auinf_local_longitude)\n",
    "  outubroReduzido3$auinf_local_longitude<-as.numeric(outubroReduzido3$auinf_local_longitude)\n",
    "}"
   ]
  },
  {
   "cell_type": "markdown",
   "id": "1d30e8fc",
   "metadata": {},
   "source": [
    "# reduzir o data.table com apenas uma infracao"
   ]
  },
  {
   "cell_type": "code",
   "execution_count": 6,
   "id": "d17d8dbb",
   "metadata": {},
   "outputs": [
    {
     "data": {
      "text/html": [
       "<style>\n",
       ".list-inline {list-style: none; margin:0; padding: 0}\n",
       ".list-inline>li {display: inline-block}\n",
       ".list-inline>li:not(:last-child)::after {content: \"\\00b7\"; padding: 0 .5ex}\n",
       "</style>\n",
       "<ol class=list-inline><li>1362</li><li>11</li></ol>\n"
      ],
      "text/latex": [
       "\\begin{enumerate*}\n",
       "\\item 1362\n",
       "\\item 11\n",
       "\\end{enumerate*}\n"
      ],
      "text/markdown": [
       "1. 1362\n",
       "2. 11\n",
       "\n",
       "\n"
      ],
      "text/plain": [
       "[1] 1362   11"
      ]
     },
     "metadata": {},
     "output_type": "display_data"
    }
   ],
   "source": [
    "outubroReduzido1.2 <- outubroReduzido3[which(outubroReduzido3$tipo_infracao %in% maisfreq)]\n",
    "dim(outubroReduzido1.2)"
   ]
  },
  {
   "cell_type": "markdown",
   "id": "fe21c313",
   "metadata": {},
   "source": [
    "# instalar se falta:"
   ]
  },
  {
   "cell_type": "code",
   "execution_count": 7,
   "id": "d52a5c94",
   "metadata": {},
   "outputs": [
    {
     "name": "stderr",
     "output_type": "stream",
     "text": [
      "Loading required package: leaflet\n",
      "\n"
     ]
    }
   ],
   "source": [
    "if (system.file(package = \"leaflet\") == '') {\n",
    "  install.packages(\"leaflet\")\n",
    "}\n",
    "if (system.file(package = \"leaflet.extras\") == '') {\n",
    "  install.packages(\"leaflet.extras\")\n",
    "}\n",
    "if (system.file(package = \"htmlwidgets\") == '') {\n",
    "  install.packages(\"htmlwidgets\")\n",
    "}\n",
    "if (system.file(package = \"IRdisplay\") == '') {\n",
    "  install.packages(\"IRdisplay\")\n",
    "}\n",
    "\n",
    "library(leaflet.extras)\n",
    "library(htmlwidgets)\n",
    "library(IRdisplay)"
   ]
  },
  {
   "cell_type": "code",
   "execution_count": 8,
   "id": "675d02ad",
   "metadata": {},
   "outputs": [
    {
     "data": {
      "text/html": [
       "<style>\n",
       ".list-inline {list-style: none; margin:0; padding: 0}\n",
       ".list-inline>li {display: inline-block}\n",
       ".list-inline>li:not(:last-child)::after {content: \"\\00b7\"; padding: 0 .5ex}\n",
       "</style>\n",
       "<ol class=list-inline><li>'tipo_infracao'</li><li>'descricao'</li><li>'tipo_infrator'</li><li>'tipo_veiculo'</li><li>'cometimento'</li><li>'hora_cometimento'</li><li>'auinf_local_rodovia'</li><li>'auinf_local_km'</li><li>'auinf_local_latitude'</li><li>'auinf_local_longitude'</li><li>'grav_tipo'</li></ol>\n"
      ],
      "text/latex": [
       "\\begin{enumerate*}\n",
       "\\item 'tipo\\_infracao'\n",
       "\\item 'descricao'\n",
       "\\item 'tipo\\_infrator'\n",
       "\\item 'tipo\\_veiculo'\n",
       "\\item 'cometimento'\n",
       "\\item 'hora\\_cometimento'\n",
       "\\item 'auinf\\_local\\_rodovia'\n",
       "\\item 'auinf\\_local\\_km'\n",
       "\\item 'auinf\\_local\\_latitude'\n",
       "\\item 'auinf\\_local\\_longitude'\n",
       "\\item 'grav\\_tipo'\n",
       "\\end{enumerate*}\n"
      ],
      "text/markdown": [
       "1. 'tipo_infracao'\n",
       "2. 'descricao'\n",
       "3. 'tipo_infrator'\n",
       "4. 'tipo_veiculo'\n",
       "5. 'cometimento'\n",
       "6. 'hora_cometimento'\n",
       "7. 'auinf_local_rodovia'\n",
       "8. 'auinf_local_km'\n",
       "9. 'auinf_local_latitude'\n",
       "10. 'auinf_local_longitude'\n",
       "11. 'grav_tipo'\n",
       "\n",
       "\n"
      ],
      "text/plain": [
       " [1] \"tipo_infracao\"         \"descricao\"             \"tipo_infrator\"        \n",
       " [4] \"tipo_veiculo\"          \"cometimento\"           \"hora_cometimento\"     \n",
       " [7] \"auinf_local_rodovia\"   \"auinf_local_km\"        \"auinf_local_latitude\" \n",
       "[10] \"auinf_local_longitude\" \"grav_tipo\"            "
      ]
     },
     "metadata": {},
     "output_type": "display_data"
    },
    {
     "data": {
      "text/html": [
       "<iframe src=\"ht1b.html\" width=\"500\" height =\"300\"></iframe>"
      ]
     },
     "metadata": {},
     "output_type": "display_data"
    }
   ],
   "source": [
    "colnames(outubroReduzido1.2)\n",
    "\n",
    "m1b = leaflet(data = outubroReduzido1.2) %>% addTiles() %>%\n",
    "  addHeatmap(\n",
    "    lng = ~auinf_local_longitude\n",
    "    , lat = ~auinf_local_latitude\n",
    "    # , intensity = ~\n",
    "    ,blur = 20, max = 0.05, radius = 15\n",
    "  )\n",
    "\n",
    "saveWidget(m1b, 'ht1b.html', selfcontained = TRUE)\n",
    "display_html('<iframe src=\"ht1b.html\" width=\"500\" height =\"300\"></iframe>')"
   ]
  }
 ],
 "metadata": {
  "kernelspec": {
   "display_name": "R",
   "language": "R",
   "name": "ir"
  },
  "language_info": {
   "codemirror_mode": "r",
   "file_extension": ".r",
   "mimetype": "text/x-r-source",
   "name": "R",
   "pygments_lexer": "r",
   "version": "4.0.5"
  }
 },
 "nbformat": 4,
 "nbformat_minor": 5
}
