{
 "cells": [
  {
   "cell_type": "markdown",
   "id": "463ce50d",
   "metadata": {},
   "source": [
    "<!-- # --- -->\n",
    "<!-- title: \"1.c\" -->\n",
    "<!-- output: pdf_document -->\n",
    "<!-- always_allow_html: true -->\n",
    "<!-- --- -->\n",
    "\n",
    "c) Refaça o item b) considerando apenas as infrações registradas durante a noite. Use um mapa (“tile”) que\n",
    "tenha um aspecto noturno.\n",
    "\n",
    "Lembrando da b:\n",
    "b) Considerando a infração mais recorrente, construa um mapa de calor que represente\n",
    "a distribuição espacial\n",
    "dos dados. Dica: Use o pacote leaflet.extras."
   ]
  },
  {
   "cell_type": "code",
   "execution_count": 1,
   "id": "2540ad52",
   "metadata": {},
   "outputs": [],
   "source": [
    "suppressPackageStartupMessages(\n",
    "    library(data.table)\n",
    "    )"
   ]
  },
  {
   "cell_type": "markdown",
   "id": "95edc8ba",
   "metadata": {},
   "source": [
    "para ler e processar arquvos grandes data.table é otimo"
   ]
  },
  {
   "cell_type": "code",
   "execution_count": 2,
   "id": "d9b3bb5d",
   "metadata": {},
   "outputs": [
    {
     "data": {
      "text/html": [
       "<style>\n",
       ".list-inline {list-style: none; margin:0; padding: 0}\n",
       ".list-inline>li {display: inline-block}\n",
       ".list-inline>li:not(:last-child)::after {content: \"\\00b7\"; padding: 0 .5ex}\n",
       "</style>\n",
       "<ol class=list-inline><li>63415</li><li>11</li></ol>\n"
      ],
      "text/latex": [
       "\\begin{enumerate*}\n",
       "\\item 63415\n",
       "\\item 11\n",
       "\\end{enumerate*}\n"
      ],
      "text/markdown": [
       "1. 63415\n",
       "2. 11\n",
       "\n",
       "\n"
      ],
      "text/plain": [
       "[1] 63415    11"
      ]
     },
     "metadata": {},
     "output_type": "display_data"
    }
   ],
   "source": [
    "# outubroReduzido <- fread(\"../source/Dados_infracoes_outubro_reduzido_2019.csv\", encoding = \"Latin-1\")\n",
    "# outubroReduzido <- fread(\"source/Dados_infracoes_outubro_reduzido_2019.csv\", encoding = \"Latin-1\")\n",
    "outubroReduzido <- fread(\"https://github.com/ferroao/janejupy/raw/main/source/Dados_infracoes_outubro_reduzido_2019_5.csv\")\n",
    "\n",
    "dim(outubroReduzido)"
   ]
  },
  {
   "cell_type": "markdown",
   "id": "341003bf",
   "metadata": {},
   "source": [
    "VAMOS remover linhas com tipo_infracao == \"\""
   ]
  },
  {
   "cell_type": "code",
   "execution_count": 3,
   "id": "ab907efe",
   "metadata": {},
   "outputs": [],
   "source": [
    "outubroReduzido2 <- outubroReduzido[-which(outubroReduzido$tipo_infracao==\"\")]"
   ]
  },
  {
   "cell_type": "markdown",
   "id": "226a04be",
   "metadata": {},
   "source": [
    "### latitude conhecida"
   ]
  },
  {
   "cell_type": "code",
   "execution_count": 4,
   "id": "c7dfd575",
   "metadata": {},
   "outputs": [
    {
     "data": {
      "text/html": [
       "<style>\n",
       ".list-inline {list-style: none; margin:0; padding: 0}\n",
       ".list-inline>li {display: inline-block}\n",
       ".list-inline>li:not(:last-child)::after {content: \"\\00b7\"; padding: 0 .5ex}\n",
       "</style>\n",
       "<ol class=list-inline><li>9467</li><li>11</li></ol>\n"
      ],
      "text/latex": [
       "\\begin{enumerate*}\n",
       "\\item 9467\n",
       "\\item 11\n",
       "\\end{enumerate*}\n"
      ],
      "text/markdown": [
       "1. 9467\n",
       "2. 11\n",
       "\n",
       "\n"
      ],
      "text/plain": [
       "[1] 9467   11"
      ]
     },
     "metadata": {},
     "output_type": "display_data"
    }
   ],
   "source": [
    "outubroReduzido3 <- outubroReduzido2[-which(outubroReduzido2$auinf_local_latitude %in% c(0,\"\" ) ) ,]\n",
    "dim(outubroReduzido3)\n",
    "# 9467"
   ]
  },
  {
   "cell_type": "markdown",
   "id": "d5f8db79",
   "metadata": {},
   "source": [
    "### qual a infracao mais recorrente?"
   ]
  },
  {
   "cell_type": "code",
   "execution_count": 5,
   "id": "d0b9c160",
   "metadata": {},
   "outputs": [],
   "source": [
    "infraFreq <- outubroReduzido3[, .(count = .N), by = list(tipo_infracao) ][order(-count)]\n",
    "maisfreq<-infraFreq[1]$tipo_infracao\n",
    "# 6769-0"
   ]
  },
  {
   "cell_type": "markdown",
   "id": "a724e388",
   "metadata": {},
   "source": [
    "### no meu sistema tenho que trocar , por ."
   ]
  },
  {
   "cell_type": "code",
   "execution_count": 6,
   "id": "984d7e74",
   "metadata": {},
   "outputs": [],
   "source": [
    "{\n",
    "  outubroReduzido3$auinf_local_latitude<-gsub(\",\" , \".\",outubroReduzido3$auinf_local_latitude)\n",
    "  outubroReduzido3$auinf_local_latitude<-as.numeric(outubroReduzido3$auinf_local_latitude)\n",
    "\n",
    "  outubroReduzido3$auinf_local_longitude<-gsub(\",\",\".\",outubroReduzido3$auinf_local_longitude)\n",
    "  outubroReduzido3$auinf_local_longitude<-as.numeric(outubroReduzido3$auinf_local_longitude)\n",
    "}"
   ]
  },
  {
   "cell_type": "code",
   "execution_count": 7,
   "id": "a7c396db",
   "metadata": {},
   "outputs": [
    {
     "data": {
      "text/html": [
       "<style>\n",
       ".list-inline {list-style: none; margin:0; padding: 0}\n",
       ".list-inline>li {display: inline-block}\n",
       ".list-inline>li:not(:last-child)::after {content: \"\\00b7\"; padding: 0 .5ex}\n",
       "</style>\n",
       "<ol class=list-inline><li>1362</li><li>11</li></ol>\n"
      ],
      "text/latex": [
       "\\begin{enumerate*}\n",
       "\\item 1362\n",
       "\\item 11\n",
       "\\end{enumerate*}\n"
      ],
      "text/markdown": [
       "1. 1362\n",
       "2. 11\n",
       "\n",
       "\n"
      ],
      "text/plain": [
       "[1] 1362   11"
      ]
     },
     "metadata": {},
     "output_type": "display_data"
    }
   ],
   "source": [
    "outubroReduzido1.2 <- outubroReduzido3[which(outubroReduzido3$tipo_infracao %in% maisfreq)]\n",
    "dim(outubroReduzido1.2)"
   ]
  },
  {
   "cell_type": "markdown",
   "id": "15c5df1e",
   "metadata": {},
   "source": [
    "# NOVO EM RELACAO A 1_B\n",
    "\n",
    "### selecionar horarios noturnos:"
   ]
  },
  {
   "cell_type": "code",
   "execution_count": 8,
   "id": "0f3b9936",
   "metadata": {},
   "outputs": [
    {
     "name": "stdout",
     "output_type": "stream",
     "text": [
      " chr [1:1362] \"17:49:00\" \"17:51:00\" \"18:37:00\" \"18:39:00\" \"18:40:00\" ...\n"
     ]
    }
   ],
   "source": [
    "str(outubroReduzido1.2$hora_cometimento)"
   ]
  },
  {
   "cell_type": "markdown",
   "id": "478830dd",
   "metadata": {},
   "source": [
    "### convertir a formato POSIXct"
   ]
  },
  {
   "cell_type": "markdown",
   "id": "c2e64c9b",
   "metadata": {},
   "source": [
    "ou seja, dar formato de data hora"
   ]
  },
  {
   "cell_type": "code",
   "execution_count": 9,
   "id": "9f6526ef",
   "metadata": {},
   "outputs": [
    {
     "data": {
      "text/html": [
       "<style>\n",
       ".list-inline {list-style: none; margin:0; padding: 0}\n",
       ".list-inline>li {display: inline-block}\n",
       ".list-inline>li:not(:last-child)::after {content: \"\\00b7\"; padding: 0 .5ex}\n",
       "</style>\n",
       "<ol class=list-inline><li>'31/10/2019 17:49:00'</li><li>'31/10/2019 17:51:00'</li><li>'31/10/2019 18:37:00'</li><li>'31/10/2019 18:39:00'</li><li>'31/10/2019 18:40:00'</li><li>'31/10/2019 18:40:00'</li></ol>\n"
      ],
      "text/latex": [
       "\\begin{enumerate*}\n",
       "\\item '31/10/2019 17:49:00'\n",
       "\\item '31/10/2019 17:51:00'\n",
       "\\item '31/10/2019 18:37:00'\n",
       "\\item '31/10/2019 18:39:00'\n",
       "\\item '31/10/2019 18:40:00'\n",
       "\\item '31/10/2019 18:40:00'\n",
       "\\end{enumerate*}\n"
      ],
      "text/markdown": [
       "1. '31/10/2019 17:49:00'\n",
       "2. '31/10/2019 17:51:00'\n",
       "3. '31/10/2019 18:37:00'\n",
       "4. '31/10/2019 18:39:00'\n",
       "5. '31/10/2019 18:40:00'\n",
       "6. '31/10/2019 18:40:00'\n",
       "\n",
       "\n"
      ],
      "text/plain": [
       "[1] \"31/10/2019 17:49:00\" \"31/10/2019 17:51:00\" \"31/10/2019 18:37:00\"\n",
       "[4] \"31/10/2019 18:39:00\" \"31/10/2019 18:40:00\" \"31/10/2019 18:40:00\""
      ]
     },
     "metadata": {},
     "output_type": "display_data"
    }
   ],
   "source": [
    "# para isso primeiro fusionamos data e hora com paste\n",
    "outubroReduzido1.2$datahora<-paste(outubroReduzido1.2$cometimento,outubroReduzido1.2$hora_cometimento)\n",
    "head(outubroReduzido1.2$datahora)"
   ]
  },
  {
   "cell_type": "code",
   "execution_count": 10,
   "id": "b2507573",
   "metadata": {},
   "outputs": [],
   "source": [
    "outubroReduzido1.2$datahora<-as.POSIXct(outubroReduzido1.2$datahora, format=  \"%d/%m/%Y %H:%M:%S\")"
   ]
  },
  {
   "cell_type": "code",
   "execution_count": 11,
   "id": "80d9456b",
   "metadata": {},
   "outputs": [],
   "source": [
    "if (system.file(package = \"lubridate\") == '') {\n",
    "  install.packages(\"lubridate\")\n",
    "}\n",
    "suppressPackageStartupMessages(\n",
    "require( lubridate )\n",
    ")\n",
    "# necessario para funcao hour"
   ]
  },
  {
   "cell_type": "markdown",
   "id": "badbf5b0",
   "metadata": {},
   "source": [
    "###  escolher horas maiores a 18 ou menores a 06"
   ]
  },
  {
   "cell_type": "code",
   "execution_count": 12,
   "id": "29913eff",
   "metadata": {},
   "outputs": [
    {
     "data": {
      "text/plain": [
       "[1] \"2019-10-31 18:37:00 -05\" \"2019-10-31 18:39:00 -05\"\n",
       "[3] \"2019-10-31 18:40:00 -05\" \"2019-10-31 18:40:00 -05\"\n",
       "[5] \"2019-10-31 18:40:00 -05\" \"2019-10-31 18:44:00 -05\""
      ]
     },
     "metadata": {},
     "output_type": "display_data"
    }
   ],
   "source": [
    "require( lubridate )\n",
    "\n",
    "head(outubroReduzido1.2[ hour( datahora ) >= 18 | hour( datahora ) < 6 , ]$datahora)\n",
    "\n",
    "outubroReduzido1.2_18_6<-outubroReduzido1.2[ hour( datahora ) >= 18 | hour( datahora ) < 6 , ]"
   ]
  },
  {
   "cell_type": "markdown",
   "id": "a00cb38f",
   "metadata": {},
   "source": [
    "### instalar se falta:"
   ]
  },
  {
   "cell_type": "code",
   "execution_count": 13,
   "id": "240ad142-2ded-4031-afe7-afd2d6af48b7",
   "metadata": {},
   "outputs": [
    {
     "name": "stderr",
     "output_type": "stream",
     "text": [
      "Loading required package: leaflet\n",
      "\n"
     ]
    }
   ],
   "source": [
    "if (system.file(package = \"leaflet\") == '') {\n",
    "  install.packages(\"leaflet\")\n",
    "}\n",
    "if (system.file(package = \"leaflet.extras\") == '') {\n",
    "  install.packages(\"leaflet.extras\")\n",
    "}\n",
    "if (system.file(package = \"htmlwidgets\") == '') {\n",
    "  install.packages(\"htmlwidgets\")\n",
    "}\n",
    "if (system.file(package = \"IRdisplay\") == '') {\n",
    "  install.packages(\"IRdisplay\")\n",
    "}\n",
    "\n",
    "library(leaflet.extras)\n",
    "library(htmlwidgets)\n",
    "library(IRdisplay)\n",
    "\n"
   ]
  },
  {
   "cell_type": "markdown",
   "id": "59d30196",
   "metadata": {},
   "source": [
    "### mapa noturno"
   ]
  },
  {
   "cell_type": "code",
   "execution_count": 14,
   "id": "26969ad1",
   "metadata": {},
   "outputs": [
    {
     "data": {
      "text/html": [
       "<iframe src=\"ht1c.html\" width=\"500\" height =\"300\"></iframe>"
      ]
     },
     "metadata": {},
     "output_type": "display_data"
    }
   ],
   "source": [
    "m1c = leaflet(data = outubroReduzido1.2_18_6) %>%\n",
    "#  addProviderTiles(providers$CartoDB.DarkMatter) %>%\n",
    "  addTiles(urlTemplate = \"https://{s}.basemaps.cartocdn.com/rastertiles/dark_all/{z}/{x}/{y}.png\") %>% # colab compatibility\n",
    "# addTiles() %>%\n",
    "  addHeatmap(\n",
    "    lng = ~auinf_local_longitude\n",
    "    , lat = ~auinf_local_latitude\n",
    "    # , intensity = ~\n",
    "    ,blur = 20, max = 0.05, radius = 15\n",
    "  )\n",
    "\n",
    "saveWidget(m1c, 'ht1c.html', selfcontained = TRUE)\n",
    "\n",
    "# cuidado colocar FALSE fora de colab\n",
    "IaminColab <- TRUE\n",
    "\n",
    "if(IaminColab){\n",
    "  demo<-readLines(\"ht1c.html\")\n",
    "  demo<-gsub(\"%\",\"%25\",demo)\n",
    "  demo<-gsub(\"#\",\"%23\",demo)\n",
    "  demo<-gsub(\"\\\"\",\"%22\",demo)\n",
    "  demo<-gsub(\"'\" ,\"%27\",demo)\n",
    "  demo<-gsub(\"\\\\n\" ,\"\",demo)\n",
    "  demo<-paste(demo, collapse=\"\")\n",
    "  display_html(paste0('<iframe src=',\"\\\"data:text/html;charset=UTF-8,\",demo,\" \\\" height=\\\"400\\\" width=\\\"600\\\"></iframe>\") )\n",
    "} else { # JUPYTER\n",
    "  display_html('<iframe src=\"ht1c.html\" width=\"500\" height =\"300\"></iframe>')\n",
    "}"
   ]
  }
 ],
 "metadata": {
  "kernelspec": {
   "display_name": "R",
   "language": "R",
   "name": "ir"
  },
  "language_info": {
   "codemirror_mode": "r",
   "file_extension": ".r",
   "mimetype": "text/x-r-source",
   "name": "R",
   "pygments_lexer": "r",
   "version": "4.0.5"
  }
 },
 "nbformat": 4,
 "nbformat_minor": 5
}
