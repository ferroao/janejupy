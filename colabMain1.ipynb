{
 "cells": [
  {
   "cell_type": "code",
   "execution_count": 1,
   "id": "144e9c85-5cc7-4ddb-aafe-ccb5f456a2ae",
   "metadata": {
    "jupyter": {
     "source_hidden": true
    },
    "tags": []
   },
   "outputs": [],
   "source": [
    "# press Ctrl + Enter to RUN active cell\n",
    "\n",
    "# SHOW keyboard shortcuts Ctrl + M then H (only jupyter notebooks and colab)\n",
    "\n",
    "# Ctrl + D (or X) DELETE a line of code\n",
    "\n",
    "# press Ctrl + M to escape from cell (opposite to ENTER)\n",
    "\n",
    "# then !\n",
    "# B to ADD cell below or A above\n",
    "# M to turn code cell into MARKDOWN\n",
    "# Y turn markdown to CODE\n",
    "# O to toggle OUTPUT\n",
    "# D D to DELETE cell\n",
    "\n",
    "# If in jupyter-lab:\n",
    "# collapse cell clicking in the blue left bar\n",
    "# use the settings menu to use the dark theme\n",
    "\n",
    "# if in colab:\n",
    "# remove bar at 80 in tools, preferences, 80 -> 0"
   ]
  },
  {
   "cell_type": "markdown",
   "id": "c935b798",
   "metadata": {
    "id": "c935b798"
   },
   "source": [
    "## 1 questao\n",
    "\n",
    "Represente os dados adicionando bolhas (círculos) ao mapa. Cada tipo de infração deve ser representado\n",
    "por uma cor, e o tamanho do círculo deve ser proporcional ao número de ocorrências no ponto geográfico.\n",
    "Basta considerar as infrações com maior incidência."
   ]
  },
  {
   "cell_type": "code",
   "execution_count": 2,
   "id": "dfe48167",
   "metadata": {
    "colab": {
     "base_uri": "https://localhost:8080/",
     "height": 543
    },
    "executionInfo": {
     "elapsed": 1986,
     "status": "ok",
     "timestamp": 1621128731049,
     "user": {
      "displayName": "Fernando Roa",
      "photoUrl": "https://lh3.googleusercontent.com/a-/AOh14GiPwKFnlhQqdi7HFMrAATHUqQoo5XimDJCQgnjy1l4=s64",
      "userId": "14398145537161484377"
     },
     "user_tz": 300
    },
    "id": "dfe48167",
    "outputId": "3a68046d-b29f-40ef-efaf-d3b92297c0c9"
   },
   "outputs": [
    {
     "data": {
      "text/html": [
       "<table class=\"dataframe\">\n",
       "<caption>A data.table: 6 × 8</caption>\n",
       "<thead>\n",
       "\t<tr><th scope=col>tipo_veiculo</th><th scope=col>cometimento</th><th scope=col>hora_cometimento</th><th scope=col>auinf_local_rodovia</th><th scope=col>auinf_local_km</th><th scope=col>auinf_local_latitude</th><th scope=col>auinf_local_longitude</th><th scope=col>grav_tipo</th></tr>\n",
       "\t<tr><th scope=col>&lt;chr&gt;</th><th scope=col>&lt;chr&gt;</th><th scope=col>&lt;chr&gt;</th><th scope=col>&lt;chr&gt;</th><th scope=col>&lt;int&gt;</th><th scope=col>&lt;chr&gt;</th><th scope=col>&lt;chr&gt;</th><th scope=col>&lt;chr&gt;</th></tr>\n",
       "</thead>\n",
       "<tbody>\n",
       "\t<tr><td>AUTOMOVEL</td><td>01/10/2019</td><td>00:00:00</td><td>DF-001 Km 60,3 Sent. Viad. Periquito/Rec. das Emas                    </td><td>NA</td><td></td><td></td><td>Média</td></tr>\n",
       "\t<tr><td>CAMIONETA</td><td>01/10/2019</td><td>00:00:00</td><td>DF-011(EPIG) KM 0,8 SENT. EPTG/EIXO MONUMENTAL (PROX. PASS. OCTOGONAL)</td><td>NA</td><td></td><td></td><td>Média</td></tr>\n",
       "\t<tr><td>AUTOMOVEL</td><td>01/10/2019</td><td>00:01:00</td><td>DF-011(EPIG) KM 0,8 SENT. EPTG/EIXO MONUMENTAL (PROX. PASS. OCTOGONAL)</td><td>NA</td><td></td><td></td><td>Grave</td></tr>\n",
       "\t<tr><td>CAMINHAO </td><td>01/10/2019</td><td>00:07:00</td><td>DF-003 (EPIA) KM 32,5 SENTIDO NORTE                                   </td><td>NA</td><td></td><td></td><td>Média</td></tr>\n",
       "\t<tr><td>AUTOMOVEL</td><td>01/10/2019</td><td>00:08:00</td><td>DF-001(EPCT)Km 57,6 Sent. Rec. das Emas/Viaduto do Periquito          </td><td>NA</td><td></td><td></td><td>Média</td></tr>\n",
       "\t<tr><td>CAMINHAO </td><td>01/10/2019</td><td>00:09:00</td><td>DF-003(EPIA) KM 29 SENTIDO NORTE                                      </td><td>NA</td><td></td><td></td><td>Média</td></tr>\n",
       "</tbody>\n",
       "</table>\n"
      ],
      "text/latex": [
       "A data.table: 6 × 8\n",
       "\\begin{tabular}{llllllll}\n",
       " tipo\\_veiculo & cometimento & hora\\_cometimento & auinf\\_local\\_rodovia & auinf\\_local\\_km & auinf\\_local\\_latitude & auinf\\_local\\_longitude & grav\\_tipo\\\\\n",
       " <chr> & <chr> & <chr> & <chr> & <int> & <chr> & <chr> & <chr>\\\\\n",
       "\\hline\n",
       "\t AUTOMOVEL & 01/10/2019 & 00:00:00 & DF-001 Km 60,3 Sent. Viad. Periquito/Rec. das Emas                     & NA &  &  & Média\\\\\n",
       "\t CAMIONETA & 01/10/2019 & 00:00:00 & DF-011(EPIG) KM 0,8 SENT. EPTG/EIXO MONUMENTAL (PROX. PASS. OCTOGONAL) & NA &  &  & Média\\\\\n",
       "\t AUTOMOVEL & 01/10/2019 & 00:01:00 & DF-011(EPIG) KM 0,8 SENT. EPTG/EIXO MONUMENTAL (PROX. PASS. OCTOGONAL) & NA &  &  & Grave\\\\\n",
       "\t CAMINHAO  & 01/10/2019 & 00:07:00 & DF-003 (EPIA) KM 32,5 SENTIDO NORTE                                    & NA &  &  & Média\\\\\n",
       "\t AUTOMOVEL & 01/10/2019 & 00:08:00 & DF-001(EPCT)Km 57,6 Sent. Rec. das Emas/Viaduto do Periquito           & NA &  &  & Média\\\\\n",
       "\t CAMINHAO  & 01/10/2019 & 00:09:00 & DF-003(EPIA) KM 29 SENTIDO NORTE                                       & NA &  &  & Média\\\\\n",
       "\\end{tabular}\n"
      ],
      "text/markdown": [
       "\n",
       "A data.table: 6 × 8\n",
       "\n",
       "| tipo_veiculo &lt;chr&gt; | cometimento &lt;chr&gt; | hora_cometimento &lt;chr&gt; | auinf_local_rodovia &lt;chr&gt; | auinf_local_km &lt;int&gt; | auinf_local_latitude &lt;chr&gt; | auinf_local_longitude &lt;chr&gt; | grav_tipo &lt;chr&gt; |\n",
       "|---|---|---|---|---|---|---|---|\n",
       "| AUTOMOVEL | 01/10/2019 | 00:00:00 | DF-001 Km 60,3 Sent. Viad. Periquito/Rec. das Emas                     | NA | <!----> | <!----> | Média |\n",
       "| CAMIONETA | 01/10/2019 | 00:00:00 | DF-011(EPIG) KM 0,8 SENT. EPTG/EIXO MONUMENTAL (PROX. PASS. OCTOGONAL) | NA | <!----> | <!----> | Média |\n",
       "| AUTOMOVEL | 01/10/2019 | 00:01:00 | DF-011(EPIG) KM 0,8 SENT. EPTG/EIXO MONUMENTAL (PROX. PASS. OCTOGONAL) | NA | <!----> | <!----> | Grave |\n",
       "| CAMINHAO  | 01/10/2019 | 00:07:00 | DF-003 (EPIA) KM 32,5 SENTIDO NORTE                                    | NA | <!----> | <!----> | Média |\n",
       "| AUTOMOVEL | 01/10/2019 | 00:08:00 | DF-001(EPCT)Km 57,6 Sent. Rec. das Emas/Viaduto do Periquito           | NA | <!----> | <!----> | Média |\n",
       "| CAMINHAO  | 01/10/2019 | 00:09:00 | DF-003(EPIA) KM 29 SENTIDO NORTE                                       | NA | <!----> | <!----> | Média |\n",
       "\n"
      ],
      "text/plain": [
       "  tipo_veiculo cometimento hora_cometimento\n",
       "1 AUTOMOVEL    01/10/2019  00:00:00        \n",
       "2 CAMIONETA    01/10/2019  00:00:00        \n",
       "3 AUTOMOVEL    01/10/2019  00:01:00        \n",
       "4 CAMINHAO     01/10/2019  00:07:00        \n",
       "5 AUTOMOVEL    01/10/2019  00:08:00        \n",
       "6 CAMINHAO     01/10/2019  00:09:00        \n",
       "  auinf_local_rodovia                                                   \n",
       "1 DF-001 Km 60,3 Sent. Viad. Periquito/Rec. das Emas                    \n",
       "2 DF-011(EPIG) KM 0,8 SENT. EPTG/EIXO MONUMENTAL (PROX. PASS. OCTOGONAL)\n",
       "3 DF-011(EPIG) KM 0,8 SENT. EPTG/EIXO MONUMENTAL (PROX. PASS. OCTOGONAL)\n",
       "4 DF-003 (EPIA) KM 32,5 SENTIDO NORTE                                   \n",
       "5 DF-001(EPCT)Km 57,6 Sent. Rec. das Emas/Viaduto do Periquito          \n",
       "6 DF-003(EPIA) KM 29 SENTIDO NORTE                                      \n",
       "  auinf_local_km auinf_local_latitude auinf_local_longitude grav_tipo\n",
       "1 NA                                                        Média    \n",
       "2 NA                                                        Média    \n",
       "3 NA                                                        Grave    \n",
       "4 NA                                                        Média    \n",
       "5 NA                                                        Média    \n",
       "6 NA                                                        Média    "
      ]
     },
     "metadata": {},
     "output_type": "display_data"
    },
    {
     "data": {
      "text/html": [
       "<style>\n",
       ".list-inline {list-style: none; margin:0; padding: 0}\n",
       ".list-inline>li {display: inline-block}\n",
       ".list-inline>li:not(:last-child)::after {content: \"\\00b7\"; padding: 0 .5ex}\n",
       "</style>\n",
       "<ol class=list-inline><li>'tipo_infracao'</li><li>'descricao'</li><li>'tipo_infrator'</li><li>'tipo_veiculo'</li><li>'cometimento'</li><li>'hora_cometimento'</li><li>'auinf_local_rodovia'</li><li>'auinf_local_km'</li><li>'auinf_local_latitude'</li><li>'auinf_local_longitude'</li><li>'grav_tipo'</li></ol>\n"
      ],
      "text/latex": [
       "\\begin{enumerate*}\n",
       "\\item 'tipo\\_infracao'\n",
       "\\item 'descricao'\n",
       "\\item 'tipo\\_infrator'\n",
       "\\item 'tipo\\_veiculo'\n",
       "\\item 'cometimento'\n",
       "\\item 'hora\\_cometimento'\n",
       "\\item 'auinf\\_local\\_rodovia'\n",
       "\\item 'auinf\\_local\\_km'\n",
       "\\item 'auinf\\_local\\_latitude'\n",
       "\\item 'auinf\\_local\\_longitude'\n",
       "\\item 'grav\\_tipo'\n",
       "\\end{enumerate*}\n"
      ],
      "text/markdown": [
       "1. 'tipo_infracao'\n",
       "2. 'descricao'\n",
       "3. 'tipo_infrator'\n",
       "4. 'tipo_veiculo'\n",
       "5. 'cometimento'\n",
       "6. 'hora_cometimento'\n",
       "7. 'auinf_local_rodovia'\n",
       "8. 'auinf_local_km'\n",
       "9. 'auinf_local_latitude'\n",
       "10. 'auinf_local_longitude'\n",
       "11. 'grav_tipo'\n",
       "\n",
       "\n"
      ],
      "text/plain": [
       " [1] \"tipo_infracao\"         \"descricao\"             \"tipo_infrator\"        \n",
       " [4] \"tipo_veiculo\"          \"cometimento\"           \"hora_cometimento\"     \n",
       " [7] \"auinf_local_rodovia\"   \"auinf_local_km\"        \"auinf_local_latitude\" \n",
       "[10] \"auinf_local_longitude\" \"grav_tipo\"            "
      ]
     },
     "metadata": {},
     "output_type": "display_data"
    }
   ],
   "source": [
    "library(data.table)\n",
    "\n",
    "# para ler e processar arquvos grandes data.table é otimo\n",
    "outubroReduzido <- fread(\"https://github.com/ferroao/janejupy/raw/main/source/Dados_infracoes_outubro_reduzido_2019_5.csv\")\n",
    "head(outubroReduzido[,4:11])\n",
    "colnames(outubroReduzido)"
   ]
  },
  {
   "cell_type": "markdown",
   "id": "83f868ea",
   "metadata": {
    "id": "83f868ea"
   },
   "source": [
    "colunas"
   ]
  },
  {
   "cell_type": "code",
   "execution_count": 3,
   "id": "e4c294fb",
   "metadata": {
    "colab": {
     "base_uri": "https://localhost:8080/",
     "height": 50
    },
    "executionInfo": {
     "elapsed": 1971,
     "status": "ok",
     "timestamp": 1621128731052,
     "user": {
      "displayName": "Fernando Roa",
      "photoUrl": "https://lh3.googleusercontent.com/a-/AOh14GiPwKFnlhQqdi7HFMrAATHUqQoo5XimDJCQgnjy1l4=s64",
      "userId": "14398145537161484377"
     },
     "user_tz": 300
    },
    "id": "e4c294fb",
    "outputId": "cab97b35-1717-4386-84ab-67060d002825"
   },
   "outputs": [
    {
     "data": {
      "text/html": [
       "<style>\n",
       ".list-inline {list-style: none; margin:0; padding: 0}\n",
       ".list-inline>li {display: inline-block}\n",
       ".list-inline>li:not(:last-child)::after {content: \"\\00b7\"; padding: 0 .5ex}\n",
       "</style>\n",
       "<ol class=list-inline><li>'tipo_infracao'</li><li>'descricao'</li><li>'tipo_infrator'</li><li>'tipo_veiculo'</li><li>'cometimento'</li><li>'hora_cometimento'</li><li>'auinf_local_rodovia'</li><li>'auinf_local_km'</li><li>'auinf_local_latitude'</li><li>'auinf_local_longitude'</li><li>'grav_tipo'</li></ol>\n"
      ],
      "text/latex": [
       "\\begin{enumerate*}\n",
       "\\item 'tipo\\_infracao'\n",
       "\\item 'descricao'\n",
       "\\item 'tipo\\_infrator'\n",
       "\\item 'tipo\\_veiculo'\n",
       "\\item 'cometimento'\n",
       "\\item 'hora\\_cometimento'\n",
       "\\item 'auinf\\_local\\_rodovia'\n",
       "\\item 'auinf\\_local\\_km'\n",
       "\\item 'auinf\\_local\\_latitude'\n",
       "\\item 'auinf\\_local\\_longitude'\n",
       "\\item 'grav\\_tipo'\n",
       "\\end{enumerate*}\n"
      ],
      "text/markdown": [
       "1. 'tipo_infracao'\n",
       "2. 'descricao'\n",
       "3. 'tipo_infrator'\n",
       "4. 'tipo_veiculo'\n",
       "5. 'cometimento'\n",
       "6. 'hora_cometimento'\n",
       "7. 'auinf_local_rodovia'\n",
       "8. 'auinf_local_km'\n",
       "9. 'auinf_local_latitude'\n",
       "10. 'auinf_local_longitude'\n",
       "11. 'grav_tipo'\n",
       "\n",
       "\n"
      ],
      "text/plain": [
       " [1] \"tipo_infracao\"         \"descricao\"             \"tipo_infrator\"        \n",
       " [4] \"tipo_veiculo\"          \"cometimento\"           \"hora_cometimento\"     \n",
       " [7] \"auinf_local_rodovia\"   \"auinf_local_km\"        \"auinf_local_latitude\" \n",
       "[10] \"auinf_local_longitude\" \"grav_tipo\"            "
      ]
     },
     "metadata": {},
     "output_type": "display_data"
    }
   ],
   "source": [
    "colnames(outubroReduzido)"
   ]
  },
  {
   "cell_type": "markdown",
   "id": "eff3127c",
   "metadata": {
    "id": "eff3127c"
   },
   "source": [
    "estrutura"
   ]
  },
  {
   "cell_type": "code",
   "execution_count": 4,
   "id": "4c28114b",
   "metadata": {
    "colab": {
     "base_uri": "https://localhost:8080/"
    },
    "executionInfo": {
     "elapsed": 1958,
     "status": "ok",
     "timestamp": 1621128731054,
     "user": {
      "displayName": "Fernando Roa",
      "photoUrl": "https://lh3.googleusercontent.com/a-/AOh14GiPwKFnlhQqdi7HFMrAATHUqQoo5XimDJCQgnjy1l4=s64",
      "userId": "14398145537161484377"
     },
     "user_tz": 300
    },
    "id": "4c28114b",
    "outputId": "28c375c7-acf6-4882-a1c3-225a03148950"
   },
   "outputs": [
    {
     "name": "stdout",
     "output_type": "stream",
     "text": [
      "Classes ‘data.table’ and 'data.frame':\t63415 obs. of  11 variables:\n",
      " $ tipo_infracao        : chr  \"7455-0\" \"7455-0\" \"7463-0\" \"7455-0\" ...\n",
      " $ descricao            : chr  \"Transitar em velocidade superior à máxima permitida em até 20%\" \"Transitar em velocidade superior à máxima permitida em até 20%\" \"Transitar em velocidade superior à máxima permitida em mais de 20% até 50%\" \"Transitar em velocidade superior à máxima permitida em até 20%\" ...\n",
      " $ tipo_infrator        : chr  \"Condutor\" \"Condutor\" \"Condutor\" \"Condutor\" ...\n",
      " $ tipo_veiculo         : chr  \"AUTOMOVEL\" \"CAMIONETA\" \"AUTOMOVEL\" \"CAMINHAO\" ...\n",
      " $ cometimento          : chr  \"01/10/2019\" \"01/10/2019\" \"01/10/2019\" \"01/10/2019\" ...\n",
      " $ hora_cometimento     : chr  \"00:00:00\" \"00:00:00\" \"00:01:00\" \"00:07:00\" ...\n",
      " $ auinf_local_rodovia  : chr  \"DF-001 Km 60,3 Sent. Viad. Periquito/Rec. das Emas\" \"DF-011(EPIG) KM 0,8 SENT. EPTG/EIXO MONUMENTAL (PROX. PASS. OCTOGONAL)\" \"DF-011(EPIG) KM 0,8 SENT. EPTG/EIXO MONUMENTAL (PROX. PASS. OCTOGONAL)\" \"DF-003 (EPIA) KM 32,5 SENTIDO NORTE\" ...\n",
      " $ auinf_local_km       : int  NA NA NA NA NA NA NA NA NA NA ...\n",
      " $ auinf_local_latitude : chr  \"\" \"\" \"\" \"\" ...\n",
      " $ auinf_local_longitude: chr  \"\" \"\" \"\" \"\" ...\n",
      " $ grav_tipo            : chr  \"Média\" \"Média\" \"Grave\" \"Média\" ...\n",
      " - attr(*, \".internal.selfref\")=<externalptr> \n"
     ]
    }
   ],
   "source": [
    "str(outubroReduzido)"
   ]
  },
  {
   "cell_type": "markdown",
   "id": "aa6f6a80",
   "metadata": {
    "id": "aa6f6a80"
   },
   "source": [
    "### tipos de infração:"
   ]
  },
  {
   "cell_type": "code",
   "execution_count": 5,
   "id": "4c33eb4c",
   "metadata": {
    "colab": {
     "base_uri": "https://localhost:8080/",
     "height": 34
    },
    "executionInfo": {
     "elapsed": 1949,
     "status": "ok",
     "timestamp": 1621128731057,
     "user": {
      "displayName": "Fernando Roa",
      "photoUrl": "https://lh3.googleusercontent.com/a-/AOh14GiPwKFnlhQqdi7HFMrAATHUqQoo5XimDJCQgnjy1l4=s64",
      "userId": "14398145537161484377"
     },
     "user_tz": 300
    },
    "id": "4c33eb4c",
    "outputId": "cdfcc1ad-e22f-4cad-8c33-b0ba4292fda5"
   },
   "outputs": [
    {
     "data": {
      "text/html": [
       "<style>\n",
       ".list-inline {list-style: none; margin:0; padding: 0}\n",
       ".list-inline>li {display: inline-block}\n",
       ".list-inline>li:not(:last-child)::after {content: \"\\00b7\"; padding: 0 .5ex}\n",
       "</style>\n",
       "<ol class=list-inline><li>'7455-0'</li><li>'7463-0'</li><li>'7471-0'</li><li>'6050-3'</li><li>'5681-0'</li><li>'5819-7'</li></ol>\n"
      ],
      "text/latex": [
       "\\begin{enumerate*}\n",
       "\\item '7455-0'\n",
       "\\item '7463-0'\n",
       "\\item '7471-0'\n",
       "\\item '6050-3'\n",
       "\\item '5681-0'\n",
       "\\item '5819-7'\n",
       "\\end{enumerate*}\n"
      ],
      "text/markdown": [
       "1. '7455-0'\n",
       "2. '7463-0'\n",
       "3. '7471-0'\n",
       "4. '6050-3'\n",
       "5. '5681-0'\n",
       "6. '5819-7'\n",
       "\n",
       "\n"
      ],
      "text/plain": [
       "[1] \"7455-0\" \"7463-0\" \"7471-0\" \"6050-3\" \"5681-0\" \"5819-7\""
      ]
     },
     "metadata": {},
     "output_type": "display_data"
    }
   ],
   "source": [
    "head(unique(outubroReduzido$tipo_infracao) )"
   ]
  },
  {
   "cell_type": "markdown",
   "id": "49ab1d50",
   "metadata": {
    "id": "49ab1d50"
   },
   "source": [
    "### Vamos remover linhas com tipo_infracao == \"\""
   ]
  },
  {
   "cell_type": "code",
   "execution_count": 6,
   "id": "06e16b47",
   "metadata": {
    "colab": {
     "base_uri": "https://localhost:8080/",
     "height": 50
    },
    "executionInfo": {
     "elapsed": 1938,
     "status": "ok",
     "timestamp": 1621128731060,
     "user": {
      "displayName": "Fernando Roa",
      "photoUrl": "https://lh3.googleusercontent.com/a-/AOh14GiPwKFnlhQqdi7HFMrAATHUqQoo5XimDJCQgnjy1l4=s64",
      "userId": "14398145537161484377"
     },
     "user_tz": 300
    },
    "id": "06e16b47",
    "outputId": "8d21e718-3333-4d85-839c-ffcbea21861d"
   },
   "outputs": [
    {
     "data": {
      "text/html": [
       "<style>\n",
       ".list-inline {list-style: none; margin:0; padding: 0}\n",
       ".list-inline>li {display: inline-block}\n",
       ".list-inline>li:not(:last-child)::after {content: \"\\00b7\"; padding: 0 .5ex}\n",
       "</style>\n",
       "<ol class=list-inline><li>63415</li><li>11</li></ol>\n"
      ],
      "text/latex": [
       "\\begin{enumerate*}\n",
       "\\item 63415\n",
       "\\item 11\n",
       "\\end{enumerate*}\n"
      ],
      "text/markdown": [
       "1. 63415\n",
       "2. 11\n",
       "\n",
       "\n"
      ],
      "text/plain": [
       "[1] 63415    11"
      ]
     },
     "metadata": {},
     "output_type": "display_data"
    },
    {
     "data": {
      "text/html": [
       "<style>\n",
       ".list-inline {list-style: none; margin:0; padding: 0}\n",
       ".list-inline>li {display: inline-block}\n",
       ".list-inline>li:not(:last-child)::after {content: \"\\00b7\"; padding: 0 .5ex}\n",
       "</style>\n",
       "<ol class=list-inline><li>63209</li><li>11</li></ol>\n"
      ],
      "text/latex": [
       "\\begin{enumerate*}\n",
       "\\item 63209\n",
       "\\item 11\n",
       "\\end{enumerate*}\n"
      ],
      "text/markdown": [
       "1. 63209\n",
       "2. 11\n",
       "\n",
       "\n"
      ],
      "text/plain": [
       "[1] 63209    11"
      ]
     },
     "metadata": {},
     "output_type": "display_data"
    }
   ],
   "source": [
    "outubroReduzido2 <- outubroReduzido[-which(outubroReduzido$tipo_infracao==\"\")]\n",
    "dim(outubroReduzido)\n",
    "dim(outubroReduzido2)"
   ]
  },
  {
   "cell_type": "markdown",
   "id": "d6d10115",
   "metadata": {
    "id": "d6d10115"
   },
   "source": [
    "### manter linhas com latitude conhecida:"
   ]
  },
  {
   "cell_type": "code",
   "execution_count": 7,
   "id": "6a78188e",
   "metadata": {
    "colab": {
     "base_uri": "https://localhost:8080/",
     "height": 50
    },
    "executionInfo": {
     "elapsed": 1929,
     "status": "ok",
     "timestamp": 1621128731063,
     "user": {
      "displayName": "Fernando Roa",
      "photoUrl": "https://lh3.googleusercontent.com/a-/AOh14GiPwKFnlhQqdi7HFMrAATHUqQoo5XimDJCQgnjy1l4=s64",
      "userId": "14398145537161484377"
     },
     "user_tz": 300
    },
    "id": "6a78188e",
    "outputId": "18b631c7-4190-43e7-8417-31e76aca6312"
   },
   "outputs": [
    {
     "data": {
      "text/html": [
       "7171"
      ],
      "text/latex": [
       "7171"
      ],
      "text/markdown": [
       "7171"
      ],
      "text/plain": [
       "[1] 7171"
      ]
     },
     "metadata": {},
     "output_type": "display_data"
    },
    {
     "data": {
      "text/html": [
       "46571"
      ],
      "text/latex": [
       "46571"
      ],
      "text/markdown": [
       "46571"
      ],
      "text/plain": [
       "[1] 46571"
      ]
     },
     "metadata": {},
     "output_type": "display_data"
    }
   ],
   "source": [
    "# latitude == \"\"\n",
    "nrow(outubroReduzido2[which(outubroReduzido2$auinf_local_latitude==\"\" ),] )\n",
    "\n",
    "# latitude == 0\n",
    "nrow(outubroReduzido2[which(outubroReduzido2$auinf_local_latitude==0 ),] )"
   ]
  },
  {
   "cell_type": "code",
   "execution_count": 8,
   "id": "d44a4ae8",
   "metadata": {
    "colab": {
     "base_uri": "https://localhost:8080/",
     "height": 84
    },
    "executionInfo": {
     "elapsed": 1914,
     "status": "ok",
     "timestamp": 1621128731064,
     "user": {
      "displayName": "Fernando Roa",
      "photoUrl": "https://lh3.googleusercontent.com/a-/AOh14GiPwKFnlhQqdi7HFMrAATHUqQoo5XimDJCQgnjy1l4=s64",
      "userId": "14398145537161484377"
     },
     "user_tz": 300
    },
    "id": "d44a4ae8",
    "outputId": "ca40ef0f-aef8-441f-a696-680e157f8a05"
   },
   "outputs": [
    {
     "data": {
      "text/html": [
       "53742"
      ],
      "text/latex": [
       "53742"
      ],
      "text/markdown": [
       "53742"
      ],
      "text/plain": [
       "[1] 53742"
      ]
     },
     "metadata": {},
     "output_type": "display_data"
    },
    {
     "data": {
      "text/html": [
       "9467"
      ],
      "text/latex": [
       "9467"
      ],
      "text/markdown": [
       "9467"
      ],
      "text/plain": [
       "[1] 9467"
      ]
     },
     "metadata": {},
     "output_type": "display_data"
    },
    {
     "data": {
      "text/html": [
       "9467"
      ],
      "text/latex": [
       "9467"
      ],
      "text/markdown": [
       "9467"
      ],
      "text/plain": [
       "[1] 9467"
      ]
     },
     "metadata": {},
     "output_type": "display_data"
    },
    {
     "data": {
      "text/html": [
       "<style>\n",
       ".list-inline {list-style: none; margin:0; padding: 0}\n",
       ".list-inline>li {display: inline-block}\n",
       ".list-inline>li:not(:last-child)::after {content: \"\\00b7\"; padding: 0 .5ex}\n",
       "</style>\n",
       "<ol class=list-inline><li>9467</li><li>11</li></ol>\n"
      ],
      "text/latex": [
       "\\begin{enumerate*}\n",
       "\\item 9467\n",
       "\\item 11\n",
       "\\end{enumerate*}\n"
      ],
      "text/markdown": [
       "1. 9467\n",
       "2. 11\n",
       "\n",
       "\n"
      ],
      "text/plain": [
       "[1] 9467   11"
      ]
     },
     "metadata": {},
     "output_type": "display_data"
    }
   ],
   "source": [
    "# latitude == 0 ou \"\"\n",
    "nrow(outubroReduzido2[which(outubroReduzido2$auinf_local_latitude %in% c(0,\"\" ) ) ,] )\n",
    "\n",
    "nrow(outubroReduzido2[which(!outubroReduzido2$auinf_local_latitude %in% c(0,\"\" ) ) ,] )\n",
    "\n",
    "nrow(outubroReduzido2[-which(outubroReduzido2$auinf_local_latitude %in% c(0,\"\" ) ) ,] )\n",
    "\n",
    "# latitude conhecida\n",
    "outubroReduzido3 <- outubroReduzido2[-which(outubroReduzido2$auinf_local_latitude %in% c(0,\"\" ) ) ,]\n",
    "dim(outubroReduzido3)"
   ]
  },
  {
   "cell_type": "markdown",
   "id": "d94c94e4",
   "metadata": {
    "id": "d94c94e4"
   },
   "source": [
    "### vamos remover locais sem nome"
   ]
  },
  {
   "cell_type": "code",
   "execution_count": 9,
   "id": "f00fd0e4",
   "metadata": {
    "colab": {
     "base_uri": "https://localhost:8080/",
     "height": 34
    },
    "executionInfo": {
     "elapsed": 2111,
     "status": "ok",
     "timestamp": 1621128731275,
     "user": {
      "displayName": "Fernando Roa",
      "photoUrl": "https://lh3.googleusercontent.com/a-/AOh14GiPwKFnlhQqdi7HFMrAATHUqQoo5XimDJCQgnjy1l4=s64",
      "userId": "14398145537161484377"
     },
     "user_tz": 300
    },
    "id": "f00fd0e4",
    "outputId": "f6d34e49-3479-4630-a8ff-5f482f1f1cad"
   },
   "outputs": [
    {
     "data": {
      "text/html": [
       "<style>\n",
       ".list-inline {list-style: none; margin:0; padding: 0}\n",
       ".list-inline>li {display: inline-block}\n",
       ".list-inline>li:not(:last-child)::after {content: \"\\00b7\"; padding: 0 .5ex}\n",
       "</style>\n",
       "<ol class=list-inline><li>9412</li><li>11</li></ol>\n"
      ],
      "text/latex": [
       "\\begin{enumerate*}\n",
       "\\item 9412\n",
       "\\item 11\n",
       "\\end{enumerate*}\n"
      ],
      "text/markdown": [
       "1. 9412\n",
       "2. 11\n",
       "\n",
       "\n"
      ],
      "text/plain": [
       "[1] 9412   11"
      ]
     },
     "metadata": {},
     "output_type": "display_data"
    }
   ],
   "source": [
    "semNomedeLocal <- which(outubroReduzido3$auinf_local_rodovia==\"\")\n",
    "\n",
    "outubroReduzido3 <- outubroReduzido3[-semNomedeLocal]# atencao ao -\n",
    "dim(outubroReduzido3)"
   ]
  },
  {
   "cell_type": "markdown",
   "id": "80b01b29",
   "metadata": {
    "id": "80b01b29"
   },
   "source": [
    "### temos que contar quantas ocorrencias de cada tipo ocorrem em cada punto\n",
    "\n",
    "quantos nomes de local temos?"
   ]
  },
  {
   "cell_type": "code",
   "execution_count": 10,
   "id": "443634e3",
   "metadata": {
    "colab": {
     "base_uri": "https://localhost:8080/",
     "height": 0
    },
    "executionInfo": {
     "elapsed": 2103,
     "status": "ok",
     "timestamp": 1621128731277,
     "user": {
      "displayName": "Fernando Roa",
      "photoUrl": "https://lh3.googleusercontent.com/a-/AOh14GiPwKFnlhQqdi7HFMrAATHUqQoo5XimDJCQgnjy1l4=s64",
      "userId": "14398145537161484377"
     },
     "user_tz": 300
    },
    "id": "443634e3",
    "outputId": "bd1978fc-aadc-405e-8333-f0cc8a98fb95"
   },
   "outputs": [
    {
     "data": {
      "text/html": [
       "<style>\n",
       ".list-inline {list-style: none; margin:0; padding: 0}\n",
       ".list-inline>li {display: inline-block}\n",
       ".list-inline>li:not(:last-child)::after {content: \"\\00b7\"; padding: 0 .5ex}\n",
       "</style>\n",
       "<ol class=list-inline><li>'DF 180'</li><li>'DF 095'</li><li>'DF 001'</li><li>'DF 0075'</li><li>'DF 085'</li><li>'DF 085 EPTG'</li></ol>\n"
      ],
      "text/latex": [
       "\\begin{enumerate*}\n",
       "\\item 'DF 180'\n",
       "\\item 'DF 095'\n",
       "\\item 'DF 001'\n",
       "\\item 'DF 0075'\n",
       "\\item 'DF 085'\n",
       "\\item 'DF 085 EPTG'\n",
       "\\end{enumerate*}\n"
      ],
      "text/markdown": [
       "1. 'DF 180'\n",
       "2. 'DF 095'\n",
       "3. 'DF 001'\n",
       "4. 'DF 0075'\n",
       "5. 'DF 085'\n",
       "6. 'DF 085 EPTG'\n",
       "\n",
       "\n"
      ],
      "text/plain": [
       "[1] \"DF 180\"      \"DF 095\"      \"DF 001\"      \"DF 0075\"     \"DF 085\"     \n",
       "[6] \"DF 085 EPTG\""
      ]
     },
     "metadata": {},
     "output_type": "display_data"
    },
    {
     "data": {
      "text/html": [
       "317"
      ],
      "text/latex": [
       "317"
      ],
      "text/markdown": [
       "317"
      ],
      "text/plain": [
       "[1] 317"
      ]
     },
     "metadata": {},
     "output_type": "display_data"
    }
   ],
   "source": [
    "head(unique(outubroReduzido3$auinf_local_rodovia) )\n",
    "\n",
    "length(unique(outubroReduzido3$auinf_local_rodovia) )"
   ]
  },
  {
   "cell_type": "markdown",
   "id": "a9ef7e46",
   "metadata": {
    "id": "a9ef7e46"
   },
   "source": [
    "é necessario criar nomes de local combinando rodovia e km\n",
    "\n",
    "1ro é necessário remover NAs da coluna auinf_local_km"
   ]
  },
  {
   "cell_type": "code",
   "execution_count": 11,
   "id": "383381d0",
   "metadata": {
    "colab": {
     "base_uri": "https://localhost:8080/",
     "height": 0
    },
    "executionInfo": {
     "elapsed": 2099,
     "status": "ok",
     "timestamp": 1621128731281,
     "user": {
      "displayName": "Fernando Roa",
      "photoUrl": "https://lh3.googleusercontent.com/a-/AOh14GiPwKFnlhQqdi7HFMrAATHUqQoo5XimDJCQgnjy1l4=s64",
      "userId": "14398145537161484377"
     },
     "user_tz": 300
    },
    "id": "383381d0",
    "outputId": "e507743c-e679-4835-cd1a-9fa04d8072f0"
   },
   "outputs": [
    {
     "data": {
      "text/html": [
       "<style>\n",
       ".list-inline {list-style: none; margin:0; padding: 0}\n",
       ".list-inline>li {display: inline-block}\n",
       ".list-inline>li:not(:last-child)::after {content: \"\\00b7\"; padding: 0 .5ex}\n",
       "</style>\n",
       "<ol class=list-inline><li>'DF 180 KM 9'</li><li>'DF 095 KM 8'</li><li>'DF 095 KM 7'</li><li>'DF 001 KM 79'</li><li>'DF 001 KM 77'</li><li>'DF 0075 KM 5'</li></ol>\n"
      ],
      "text/latex": [
       "\\begin{enumerate*}\n",
       "\\item 'DF 180 KM 9'\n",
       "\\item 'DF 095 KM 8'\n",
       "\\item 'DF 095 KM 7'\n",
       "\\item 'DF 001 KM 79'\n",
       "\\item 'DF 001 KM 77'\n",
       "\\item 'DF 0075 KM 5'\n",
       "\\end{enumerate*}\n"
      ],
      "text/markdown": [
       "1. 'DF 180 KM 9'\n",
       "2. 'DF 095 KM 8'\n",
       "3. 'DF 095 KM 7'\n",
       "4. 'DF 001 KM 79'\n",
       "5. 'DF 001 KM 77'\n",
       "6. 'DF 0075 KM 5'\n",
       "\n",
       "\n"
      ],
      "text/plain": [
       "[1] \"DF 180 KM 9\"  \"DF 095 KM 8\"  \"DF 095 KM 7\"  \"DF 001 KM 79\" \"DF 001 KM 77\"\n",
       "[6] \"DF 0075 KM 5\""
      ]
     },
     "metadata": {},
     "output_type": "display_data"
    }
   ],
   "source": [
    "outubroReduzido3$auinf_local_km <- ifelse(is.na(outubroReduzido3$auinf_local_km)\n",
    "                                        # caso seja NA colocar \"\"\n",
    "                                        ,\"\"\n",
    "                                        # caso nao seja NA\n",
    "                                        ,outubroReduzido3$auinf_local_km\n",
    ")\n",
    "\n",
    "outubroReduzido3$localCombi <- ifelse(\n",
    "       # avaliar se há presenca de km\n",
    "       grepl(\"KM|km\",outubroReduzido3$auinf_local_rodovia)\n",
    "       # se presenta a string km nao modificar\n",
    "       ,outubroReduzido3$auinf_local_rodovia\n",
    "       # caso contrario adicionar-la juntando a coluna rodovia + km\n",
    "       ,paste0(outubroReduzido3$auinf_local_rodovia,\n",
    "               \" KM \"\n",
    "               ,outubroReduzido3$auinf_local_km\n",
    "              )\n",
    "       )\n",
    "head(unique(outubroReduzido3$localCombi))"
   ]
  },
  {
   "cell_type": "markdown",
   "id": "76805d61",
   "metadata": {
    "id": "76805d61"
   },
   "source": [
    "### corrigir nomes de local\n",
    "\n",
    "as vezes df esta em minuscula"
   ]
  },
  {
   "cell_type": "code",
   "execution_count": 12,
   "id": "72fc8549",
   "metadata": {
    "colab": {
     "base_uri": "https://localhost:8080/",
     "height": 0
    },
    "executionInfo": {
     "elapsed": 2426,
     "status": "ok",
     "timestamp": 1621128731616,
     "user": {
      "displayName": "Fernando Roa",
      "photoUrl": "https://lh3.googleusercontent.com/a-/AOh14GiPwKFnlhQqdi7HFMrAATHUqQoo5XimDJCQgnjy1l4=s64",
      "userId": "14398145537161484377"
     },
     "user_tz": 300
    },
    "id": "72fc8549",
    "outputId": "1f603696-67ce-4420-dd14-a94e88a4ef88"
   },
   "outputs": [
    {
     "data": {
      "text/html": [
       "504"
      ],
      "text/latex": [
       "504"
      ],
      "text/markdown": [
       "504"
      ],
      "text/plain": [
       "[1] 504"
      ]
     },
     "metadata": {},
     "output_type": "display_data"
    }
   ],
   "source": [
    "outubroReduzido3$localCombi<-gsub(\"df\",\"DF\",outubroReduzido3$localCombi)\n",
    "\n",
    "# excesso de espacos\n",
    "outubroReduzido3$localCombi<-gsub(\"\\\\s+\",\" \",outubroReduzido3$localCombi)\n",
    "\n",
    "# as vezes - separam DF do numero DF-000\n",
    "outubroReduzido3$localCombi<-gsub(\"-\",\" \",outubroReduzido3$localCombi)\n",
    "\n",
    "# as vezes DF e numero estao colados DF000, separa-los\n",
    "outubroReduzido3$localCombi<-gsub(\"(DF)([0-9]+)\",\"\\\\1 \\\\2\",outubroReduzido3$localCombi)\n",
    "\n",
    "# quantos locais da nova coluna rodvia + km\n",
    "length(unique(outubroReduzido3$localCombi) )"
   ]
  },
  {
   "cell_type": "markdown",
   "id": "fa2ba710",
   "metadata": {
    "id": "fa2ba710"
   },
   "source": [
    "### para cada localCombi (rodovia + km) contar quantas infracoes por tipo de infrac."
   ]
  },
  {
   "cell_type": "code",
   "execution_count": 13,
   "id": "2f4aeaab",
   "metadata": {
    "colab": {
     "base_uri": "https://localhost:8080/",
     "height": 0
    },
    "executionInfo": {
     "elapsed": 2421,
     "status": "ok",
     "timestamp": 1621128731618,
     "user": {
      "displayName": "Fernando Roa",
      "photoUrl": "https://lh3.googleusercontent.com/a-/AOh14GiPwKFnlhQqdi7HFMrAATHUqQoo5XimDJCQgnjy1l4=s64",
      "userId": "14398145537161484377"
     },
     "user_tz": 300
    },
    "id": "2f4aeaab",
    "outputId": "85869b56-800d-47b4-e589-58770019fef8"
   },
   "outputs": [
    {
     "data": {
      "text/html": [
       "<table class=\"dataframe\">\n",
       "<caption>A data.table: 9 × 2</caption>\n",
       "<thead>\n",
       "\t<tr><th scope=col>localCombi</th><th scope=col>infracao</th></tr>\n",
       "\t<tr><th scope=col>&lt;chr&gt;</th><th scope=col>&lt;dbl&gt;</th></tr>\n",
       "</thead>\n",
       "<tbody>\n",
       "\t<tr><td>first </td><td>1</td></tr>\n",
       "\t<tr><td>first </td><td>2</td></tr>\n",
       "\t<tr><td>first </td><td>3</td></tr>\n",
       "\t<tr><td>first </td><td>1</td></tr>\n",
       "\t<tr><td>first </td><td>2</td></tr>\n",
       "\t<tr><td>second</td><td>3</td></tr>\n",
       "\t<tr><td>second</td><td>1</td></tr>\n",
       "\t<tr><td>third </td><td>2</td></tr>\n",
       "\t<tr><td>third </td><td>3</td></tr>\n",
       "</tbody>\n",
       "</table>\n"
      ],
      "text/latex": [
       "A data.table: 9 × 2\n",
       "\\begin{tabular}{ll}\n",
       " localCombi & infracao\\\\\n",
       " <chr> & <dbl>\\\\\n",
       "\\hline\n",
       "\t first  & 1\\\\\n",
       "\t first  & 2\\\\\n",
       "\t first  & 3\\\\\n",
       "\t first  & 1\\\\\n",
       "\t first  & 2\\\\\n",
       "\t second & 3\\\\\n",
       "\t second & 1\\\\\n",
       "\t third  & 2\\\\\n",
       "\t third  & 3\\\\\n",
       "\\end{tabular}\n"
      ],
      "text/markdown": [
       "\n",
       "A data.table: 9 × 2\n",
       "\n",
       "| localCombi &lt;chr&gt; | infracao &lt;dbl&gt; |\n",
       "|---|---|\n",
       "| first  | 1 |\n",
       "| first  | 2 |\n",
       "| first  | 3 |\n",
       "| first  | 1 |\n",
       "| first  | 2 |\n",
       "| second | 3 |\n",
       "| second | 1 |\n",
       "| third  | 2 |\n",
       "| third  | 3 |\n",
       "\n"
      ],
      "text/plain": [
       "  localCombi infracao\n",
       "1 first      1       \n",
       "2 first      2       \n",
       "3 first      3       \n",
       "4 first      1       \n",
       "5 first      2       \n",
       "6 second     3       \n",
       "7 second     1       \n",
       "8 third      2       \n",
       "9 third      3       "
      ]
     },
     "metadata": {},
     "output_type": "display_data"
    }
   ],
   "source": [
    "smallDT<-data.table(localCombi=c(rep(\"first\",5)\n",
    "                    ,rep(\"second\",2)\n",
    "                    ,rep(\"third\",2)\n",
    "                    )\n",
    "                    ,infracao = c(rep(c(1,2,3),3) )\n",
    "         )\n",
    "smallDT\n"
   ]
  },
  {
   "cell_type": "code",
   "execution_count": 14,
   "id": "24880fc5-23d4-4b7d-8b76-eeaacd3be14d",
   "metadata": {
    "colab": {
     "base_uri": "https://localhost:8080/",
     "height": 0
    },
    "executionInfo": {
     "elapsed": 2415,
     "status": "ok",
     "timestamp": 1621128731619,
     "user": {
      "displayName": "Fernando Roa",
      "photoUrl": "https://lh3.googleusercontent.com/a-/AOh14GiPwKFnlhQqdi7HFMrAATHUqQoo5XimDJCQgnjy1l4=s64",
      "userId": "14398145537161484377"
     },
     "user_tz": 300
    },
    "id": "24880fc5-23d4-4b7d-8b76-eeaacd3be14d",
    "outputId": "c87115e8-368e-4ffe-d16b-234e6192246b"
   },
   "outputs": [
    {
     "data": {
      "text/html": [
       "<table class=\"dataframe\">\n",
       "<caption>A data.table: 7 × 3</caption>\n",
       "<thead>\n",
       "\t<tr><th scope=col>localCombi</th><th scope=col>infracao</th><th scope=col>count</th></tr>\n",
       "\t<tr><th scope=col>&lt;chr&gt;</th><th scope=col>&lt;dbl&gt;</th><th scope=col>&lt;int&gt;</th></tr>\n",
       "</thead>\n",
       "<tbody>\n",
       "\t<tr><td>first </td><td>1</td><td>2</td></tr>\n",
       "\t<tr><td>first </td><td>2</td><td>2</td></tr>\n",
       "\t<tr><td>first </td><td>3</td><td>1</td></tr>\n",
       "\t<tr><td>second</td><td>3</td><td>1</td></tr>\n",
       "\t<tr><td>second</td><td>1</td><td>1</td></tr>\n",
       "\t<tr><td>third </td><td>2</td><td>1</td></tr>\n",
       "\t<tr><td>third </td><td>3</td><td>1</td></tr>\n",
       "</tbody>\n",
       "</table>\n"
      ],
      "text/latex": [
       "A data.table: 7 × 3\n",
       "\\begin{tabular}{lll}\n",
       " localCombi & infracao & count\\\\\n",
       " <chr> & <dbl> & <int>\\\\\n",
       "\\hline\n",
       "\t first  & 1 & 2\\\\\n",
       "\t first  & 2 & 2\\\\\n",
       "\t first  & 3 & 1\\\\\n",
       "\t second & 3 & 1\\\\\n",
       "\t second & 1 & 1\\\\\n",
       "\t third  & 2 & 1\\\\\n",
       "\t third  & 3 & 1\\\\\n",
       "\\end{tabular}\n"
      ],
      "text/markdown": [
       "\n",
       "A data.table: 7 × 3\n",
       "\n",
       "| localCombi &lt;chr&gt; | infracao &lt;dbl&gt; | count &lt;int&gt; |\n",
       "|---|---|---|\n",
       "| first  | 1 | 2 |\n",
       "| first  | 2 | 2 |\n",
       "| first  | 3 | 1 |\n",
       "| second | 3 | 1 |\n",
       "| second | 1 | 1 |\n",
       "| third  | 2 | 1 |\n",
       "| third  | 3 | 1 |\n",
       "\n"
      ],
      "text/plain": [
       "  localCombi infracao count\n",
       "1 first      1        2    \n",
       "2 first      2        2    \n",
       "3 first      3        1    \n",
       "4 second     3        1    \n",
       "5 second     1        1    \n",
       "6 third      2        1    \n",
       "7 third      3        1    "
      ]
     },
     "metadata": {},
     "output_type": "display_data"
    }
   ],
   "source": [
    "\n",
    "smallDT[, .(count = .N), by = list(localCombi,infracao) ]"
   ]
  },
  {
   "cell_type": "code",
   "execution_count": 15,
   "id": "74d46879",
   "metadata": {
    "colab": {
     "base_uri": "https://localhost:8080/",
     "height": 0
    },
    "executionInfo": {
     "elapsed": 2409,
     "status": "ok",
     "timestamp": 1621128731620,
     "user": {
      "displayName": "Fernando Roa",
      "photoUrl": "https://lh3.googleusercontent.com/a-/AOh14GiPwKFnlhQqdi7HFMrAATHUqQoo5XimDJCQgnjy1l4=s64",
      "userId": "14398145537161484377"
     },
     "user_tz": 300
    },
    "id": "74d46879",
    "outputId": "21874bbb-c810-4562-def3-cb2b3cd7b85c"
   },
   "outputs": [
    {
     "data": {
      "text/html": [
       "<style>\n",
       ".list-inline {list-style: none; margin:0; padding: 0}\n",
       ".list-inline>li {display: inline-block}\n",
       ".list-inline>li:not(:last-child)::after {content: \"\\00b7\"; padding: 0 .5ex}\n",
       "</style>\n",
       "<ol class=list-inline><li>'tipo_infracao'</li><li>'descricao'</li><li>'tipo_infrator'</li><li>'tipo_veiculo'</li><li>'cometimento'</li><li>'hora_cometimento'</li><li>'auinf_local_rodovia'</li><li>'auinf_local_km'</li><li>'auinf_local_latitude'</li><li>'auinf_local_longitude'</li><li>'grav_tipo'</li><li>'localCombi'</li></ol>\n"
      ],
      "text/latex": [
       "\\begin{enumerate*}\n",
       "\\item 'tipo\\_infracao'\n",
       "\\item 'descricao'\n",
       "\\item 'tipo\\_infrator'\n",
       "\\item 'tipo\\_veiculo'\n",
       "\\item 'cometimento'\n",
       "\\item 'hora\\_cometimento'\n",
       "\\item 'auinf\\_local\\_rodovia'\n",
       "\\item 'auinf\\_local\\_km'\n",
       "\\item 'auinf\\_local\\_latitude'\n",
       "\\item 'auinf\\_local\\_longitude'\n",
       "\\item 'grav\\_tipo'\n",
       "\\item 'localCombi'\n",
       "\\end{enumerate*}\n"
      ],
      "text/markdown": [
       "1. 'tipo_infracao'\n",
       "2. 'descricao'\n",
       "3. 'tipo_infrator'\n",
       "4. 'tipo_veiculo'\n",
       "5. 'cometimento'\n",
       "6. 'hora_cometimento'\n",
       "7. 'auinf_local_rodovia'\n",
       "8. 'auinf_local_km'\n",
       "9. 'auinf_local_latitude'\n",
       "10. 'auinf_local_longitude'\n",
       "11. 'grav_tipo'\n",
       "12. 'localCombi'\n",
       "\n",
       "\n"
      ],
      "text/plain": [
       " [1] \"tipo_infracao\"         \"descricao\"             \"tipo_infrator\"        \n",
       " [4] \"tipo_veiculo\"          \"cometimento\"           \"hora_cometimento\"     \n",
       " [7] \"auinf_local_rodovia\"   \"auinf_local_km\"        \"auinf_local_latitude\" \n",
       "[10] \"auinf_local_longitude\" \"grav_tipo\"             \"localCombi\"           "
      ]
     },
     "metadata": {},
     "output_type": "display_data"
    },
    {
     "data": {
      "text/html": [
       "<table class=\"dataframe\">\n",
       "<caption>A data.table: 6 × 3</caption>\n",
       "<thead>\n",
       "\t<tr><th scope=col>localCombi</th><th scope=col>tipo_infracao</th><th scope=col>count</th></tr>\n",
       "\t<tr><th scope=col>&lt;chr&gt;</th><th scope=col>&lt;chr&gt;</th><th scope=col>&lt;int&gt;</th></tr>\n",
       "</thead>\n",
       "<tbody>\n",
       "\t<tr><td>DF 180 KM 9 </td><td>5193-0</td><td>  1</td></tr>\n",
       "\t<tr><td>DF 095 KM 8 </td><td>6769-0</td><td>346</td></tr>\n",
       "\t<tr><td>DF 095 KM 8 </td><td>7315-0</td><td> 11</td></tr>\n",
       "\t<tr><td>DF 095 KM 7 </td><td>6599-2</td><td>  1</td></tr>\n",
       "\t<tr><td>DF 001 KM 79</td><td>6050-1</td><td>  2</td></tr>\n",
       "\t<tr><td>DF 001 KM 77</td><td>5819-6</td><td>194</td></tr>\n",
       "</tbody>\n",
       "</table>\n"
      ],
      "text/latex": [
       "A data.table: 6 × 3\n",
       "\\begin{tabular}{lll}\n",
       " localCombi & tipo\\_infracao & count\\\\\n",
       " <chr> & <chr> & <int>\\\\\n",
       "\\hline\n",
       "\t DF 180 KM 9  & 5193-0 &   1\\\\\n",
       "\t DF 095 KM 8  & 6769-0 & 346\\\\\n",
       "\t DF 095 KM 8  & 7315-0 &  11\\\\\n",
       "\t DF 095 KM 7  & 6599-2 &   1\\\\\n",
       "\t DF 001 KM 79 & 6050-1 &   2\\\\\n",
       "\t DF 001 KM 77 & 5819-6 & 194\\\\\n",
       "\\end{tabular}\n"
      ],
      "text/markdown": [
       "\n",
       "A data.table: 6 × 3\n",
       "\n",
       "| localCombi &lt;chr&gt; | tipo_infracao &lt;chr&gt; | count &lt;int&gt; |\n",
       "|---|---|---|\n",
       "| DF 180 KM 9  | 5193-0 |   1 |\n",
       "| DF 095 KM 8  | 6769-0 | 346 |\n",
       "| DF 095 KM 8  | 7315-0 |  11 |\n",
       "| DF 095 KM 7  | 6599-2 |   1 |\n",
       "| DF 001 KM 79 | 6050-1 |   2 |\n",
       "| DF 001 KM 77 | 5819-6 | 194 |\n",
       "\n"
      ],
      "text/plain": [
       "  localCombi   tipo_infracao count\n",
       "1 DF 180 KM 9  5193-0          1  \n",
       "2 DF 095 KM 8  6769-0        346  \n",
       "3 DF 095 KM 8  7315-0         11  \n",
       "4 DF 095 KM 7  6599-2          1  \n",
       "5 DF 001 KM 79 6050-1          2  \n",
       "6 DF 001 KM 77 5819-6        194  "
      ]
     },
     "metadata": {},
     "output_type": "display_data"
    }
   ],
   "source": [
    "colnames(outubroReduzido3)\n",
    "\n",
    "infraPerLocal <- outubroReduzido3[, .(count = .N), by = list(localCombi,tipo_infracao) ]\n",
    "head(infraPerLocal)"
   ]
  },
  {
   "cell_type": "markdown",
   "id": "afcf665a",
   "metadata": {
    "id": "afcf665a"
   },
   "source": [
    "### quais sao as coordenadas desses locais\n",
    "\n",
    "já sabemos que cada local vai ter mais de uma coordenada"
   ]
  },
  {
   "cell_type": "code",
   "execution_count": 16,
   "id": "cd90c525",
   "metadata": {
    "colab": {
     "base_uri": "https://localhost:8080/",
     "height": 0
    },
    "executionInfo": {
     "elapsed": 2402,
     "status": "ok",
     "timestamp": 1621128731621,
     "user": {
      "displayName": "Fernando Roa",
      "photoUrl": "https://lh3.googleusercontent.com/a-/AOh14GiPwKFnlhQqdi7HFMrAATHUqQoo5XimDJCQgnjy1l4=s64",
      "userId": "14398145537161484377"
     },
     "user_tz": 300
    },
    "id": "cd90c525",
    "outputId": "f88c0b2a-9ea5-438e-e2f3-b342a7737c9f"
   },
   "outputs": [
    {
     "data": {
      "text/html": [
       "<table class=\"dataframe\">\n",
       "<caption>A data.table: 6 × 2</caption>\n",
       "<thead>\n",
       "\t<tr><th scope=col>auinf_local_latitude</th><th scope=col>auinf_local_longitude</th></tr>\n",
       "\t<tr><th scope=col>&lt;chr&gt;</th><th scope=col>&lt;chr&gt;</th></tr>\n",
       "</thead>\n",
       "<tbody>\n",
       "\t<tr><td>-15,79449158</td><td>-48,19938649</td></tr>\n",
       "\t<tr><td>-15,79449158</td><td>-48,19938649</td></tr>\n",
       "\t<tr><td>-15,79055229</td><td>-48,10702933</td></tr>\n",
       "\t<tr><td>-15,79093796</td><td>-48,04490652</td></tr>\n",
       "\t<tr><td>-15,79093796</td><td>-48,04490652</td></tr>\n",
       "\t<tr><td>-15,79093796</td><td>-48,04490652</td></tr>\n",
       "</tbody>\n",
       "</table>\n"
      ],
      "text/latex": [
       "A data.table: 6 × 2\n",
       "\\begin{tabular}{ll}\n",
       " auinf\\_local\\_latitude & auinf\\_local\\_longitude\\\\\n",
       " <chr> & <chr>\\\\\n",
       "\\hline\n",
       "\t -15,79449158 & -48,19938649\\\\\n",
       "\t -15,79449158 & -48,19938649\\\\\n",
       "\t -15,79055229 & -48,10702933\\\\\n",
       "\t -15,79093796 & -48,04490652\\\\\n",
       "\t -15,79093796 & -48,04490652\\\\\n",
       "\t -15,79093796 & -48,04490652\\\\\n",
       "\\end{tabular}\n"
      ],
      "text/markdown": [
       "\n",
       "A data.table: 6 × 2\n",
       "\n",
       "| auinf_local_latitude &lt;chr&gt; | auinf_local_longitude &lt;chr&gt; |\n",
       "|---|---|\n",
       "| -15,79449158 | -48,19938649 |\n",
       "| -15,79449158 | -48,19938649 |\n",
       "| -15,79055229 | -48,10702933 |\n",
       "| -15,79093796 | -48,04490652 |\n",
       "| -15,79093796 | -48,04490652 |\n",
       "| -15,79093796 | -48,04490652 |\n",
       "\n"
      ],
      "text/plain": [
       "  auinf_local_latitude auinf_local_longitude\n",
       "1 -15,79449158         -48,19938649         \n",
       "2 -15,79449158         -48,19938649         \n",
       "3 -15,79055229         -48,10702933         \n",
       "4 -15,79093796         -48,04490652         \n",
       "5 -15,79093796         -48,04490652         \n",
       "6 -15,79093796         -48,04490652         "
      ]
     },
     "metadata": {},
     "output_type": "display_data"
    }
   ],
   "source": [
    "head(outubroReduzido3[which(outubroReduzido3$localCombi %in% \"DF 095 KM 8\"),][,c(\"auinf_local_latitude\",  \"auinf_local_longitude\")] )"
   ]
  },
  {
   "cell_type": "markdown",
   "id": "8f4c8927",
   "metadata": {
    "id": "8f4c8927"
   },
   "source": [
    "### para cada um dos locais vamos pegar a mediana de lat e de long"
   ]
  },
  {
   "cell_type": "code",
   "execution_count": 17,
   "id": "a53d7baa",
   "metadata": {
    "colab": {
     "base_uri": "https://localhost:8080/",
     "height": 0
    },
    "executionInfo": {
     "elapsed": 2396,
     "status": "ok",
     "timestamp": 1621128731622,
     "user": {
      "displayName": "Fernando Roa",
      "photoUrl": "https://lh3.googleusercontent.com/a-/AOh14GiPwKFnlhQqdi7HFMrAATHUqQoo5XimDJCQgnjy1l4=s64",
      "userId": "14398145537161484377"
     },
     "user_tz": 300
    },
    "id": "a53d7baa",
    "outputId": "5d0c22c3-28af-4520-c4fd-f0465e9664ef"
   },
   "outputs": [
    {
     "data": {
      "text/html": [
       "<table class=\"dataframe\">\n",
       "<caption>A data.table: 9 × 3</caption>\n",
       "<thead>\n",
       "\t<tr><th scope=col>localCombi</th><th scope=col>lat</th><th scope=col>long</th></tr>\n",
       "\t<tr><th scope=col>&lt;chr&gt;</th><th scope=col>&lt;dbl&gt;</th><th scope=col>&lt;dbl&gt;</th></tr>\n",
       "</thead>\n",
       "<tbody>\n",
       "\t<tr><td>first </td><td>1.0</td><td>4</td></tr>\n",
       "\t<tr><td>first </td><td>1.0</td><td>4</td></tr>\n",
       "\t<tr><td>first </td><td>1.5</td><td>4</td></tr>\n",
       "\t<tr><td>first </td><td>1.5</td><td>4</td></tr>\n",
       "\t<tr><td>first </td><td>1.5</td><td>4</td></tr>\n",
       "\t<tr><td>second</td><td>2.0</td><td>2</td></tr>\n",
       "\t<tr><td>second</td><td>2.0</td><td>2</td></tr>\n",
       "\t<tr><td>third </td><td>1.0</td><td>1</td></tr>\n",
       "\t<tr><td>third </td><td>1.0</td><td>1</td></tr>\n",
       "</tbody>\n",
       "</table>\n"
      ],
      "text/latex": [
       "A data.table: 9 × 3\n",
       "\\begin{tabular}{lll}\n",
       " localCombi & lat & long\\\\\n",
       " <chr> & <dbl> & <dbl>\\\\\n",
       "\\hline\n",
       "\t first  & 1.0 & 4\\\\\n",
       "\t first  & 1.0 & 4\\\\\n",
       "\t first  & 1.5 & 4\\\\\n",
       "\t first  & 1.5 & 4\\\\\n",
       "\t first  & 1.5 & 4\\\\\n",
       "\t second & 2.0 & 2\\\\\n",
       "\t second & 2.0 & 2\\\\\n",
       "\t third  & 1.0 & 1\\\\\n",
       "\t third  & 1.0 & 1\\\\\n",
       "\\end{tabular}\n"
      ],
      "text/markdown": [
       "\n",
       "A data.table: 9 × 3\n",
       "\n",
       "| localCombi &lt;chr&gt; | lat &lt;dbl&gt; | long &lt;dbl&gt; |\n",
       "|---|---|---|\n",
       "| first  | 1.0 | 4 |\n",
       "| first  | 1.0 | 4 |\n",
       "| first  | 1.5 | 4 |\n",
       "| first  | 1.5 | 4 |\n",
       "| first  | 1.5 | 4 |\n",
       "| second | 2.0 | 2 |\n",
       "| second | 2.0 | 2 |\n",
       "| third  | 1.0 | 1 |\n",
       "| third  | 1.0 | 1 |\n",
       "\n"
      ],
      "text/plain": [
       "  localCombi lat long\n",
       "1 first      1.0 4   \n",
       "2 first      1.0 4   \n",
       "3 first      1.5 4   \n",
       "4 first      1.5 4   \n",
       "5 first      1.5 4   \n",
       "6 second     2.0 2   \n",
       "7 second     2.0 2   \n",
       "8 third      1.0 1   \n",
       "9 third      1.0 1   "
      ]
     },
     "metadata": {},
     "output_type": "display_data"
    }
   ],
   "source": [
    "smallDT2<-data.table(localCombi=c(rep(\"first\",5)\n",
    "                                 ,rep(\"second\",2)\n",
    "                                 ,rep(\"third\",2) )\n",
    "                    ,lat = c(rep(1,2),rep(1.5,3),rep(2,2),rep(1,2) )\n",
    "                    ,long = c(rep(4,5),rep(2,2),rep(1,2) )\n",
    ")\n",
    "smallDT2\n",
    "\n"
   ]
  },
  {
   "cell_type": "code",
   "execution_count": 18,
   "id": "15e41ae3-1b09-4ebb-9fbf-9787faf84e44",
   "metadata": {
    "colab": {
     "base_uri": "https://localhost:8080/",
     "height": 0
    },
    "executionInfo": {
     "elapsed": 2632,
     "status": "ok",
     "timestamp": 1621128731866,
     "user": {
      "displayName": "Fernando Roa",
      "photoUrl": "https://lh3.googleusercontent.com/a-/AOh14GiPwKFnlhQqdi7HFMrAATHUqQoo5XimDJCQgnjy1l4=s64",
      "userId": "14398145537161484377"
     },
     "user_tz": 300
    },
    "id": "15e41ae3-1b09-4ebb-9fbf-9787faf84e44",
    "outputId": "4c1f8dc2-cd31-48ad-ae61-de09f7a2381a"
   },
   "outputs": [
    {
     "data": {
      "text/html": [
       "<table class=\"dataframe\">\n",
       "<caption>A data.table: 3 × 3</caption>\n",
       "<thead>\n",
       "\t<tr><th scope=col>localCombi</th><th scope=col>latM</th><th scope=col>lonM</th></tr>\n",
       "\t<tr><th scope=col>&lt;chr&gt;</th><th scope=col>&lt;dbl&gt;</th><th scope=col>&lt;dbl&gt;</th></tr>\n",
       "</thead>\n",
       "<tbody>\n",
       "\t<tr><td>first </td><td>1.5</td><td>4</td></tr>\n",
       "\t<tr><td>second</td><td>2.0</td><td>2</td></tr>\n",
       "\t<tr><td>third </td><td>1.0</td><td>1</td></tr>\n",
       "</tbody>\n",
       "</table>\n"
      ],
      "text/latex": [
       "A data.table: 3 × 3\n",
       "\\begin{tabular}{lll}\n",
       " localCombi & latM & lonM\\\\\n",
       " <chr> & <dbl> & <dbl>\\\\\n",
       "\\hline\n",
       "\t first  & 1.5 & 4\\\\\n",
       "\t second & 2.0 & 2\\\\\n",
       "\t third  & 1.0 & 1\\\\\n",
       "\\end{tabular}\n"
      ],
      "text/markdown": [
       "\n",
       "A data.table: 3 × 3\n",
       "\n",
       "| localCombi &lt;chr&gt; | latM &lt;dbl&gt; | lonM &lt;dbl&gt; |\n",
       "|---|---|---|\n",
       "| first  | 1.5 | 4 |\n",
       "| second | 2.0 | 2 |\n",
       "| third  | 1.0 | 1 |\n",
       "\n"
      ],
      "text/plain": [
       "  localCombi latM lonM\n",
       "1 first      1.5  4   \n",
       "2 second     2.0  2   \n",
       "3 third      1.0  1   "
      ]
     },
     "metadata": {},
     "output_type": "display_data"
    }
   ],
   "source": [
    "smallDT2[, .(latM=median(lat), lonM=median(long) ), by = localCombi ]"
   ]
  },
  {
   "cell_type": "markdown",
   "id": "bb676ac5",
   "metadata": {
    "id": "bb676ac5"
   },
   "source": [
    "### vamos converter a numerico"
   ]
  },
  {
   "cell_type": "code",
   "execution_count": 19,
   "id": "f6ac1091",
   "metadata": {
    "colab": {
     "base_uri": "https://localhost:8080/"
    },
    "executionInfo": {
     "elapsed": 2626,
     "status": "ok",
     "timestamp": 1621128731868,
     "user": {
      "displayName": "Fernando Roa",
      "photoUrl": "https://lh3.googleusercontent.com/a-/AOh14GiPwKFnlhQqdi7HFMrAATHUqQoo5XimDJCQgnjy1l4=s64",
      "userId": "14398145537161484377"
     },
     "user_tz": 300
    },
    "id": "f6ac1091",
    "outputId": "fa8d923e-0b7c-4a87-f8e6-455e615fd1b6"
   },
   "outputs": [
    {
     "name": "stdout",
     "output_type": "stream",
     "text": [
      " chr [1:9412] \"-15,75970971\" \"-15,79449158\" \"-15,79449158\" \"-15,79055229\" ...\n"
     ]
    }
   ],
   "source": [
    "str(outubroReduzido3$auinf_local_latitude)\n",
    "\n",
    "# no meu sistema tenho que trocar , por .\n",
    "outubroReduzido3$auinf_local_latitude<-gsub(\",\" , \".\",outubroReduzido3$auinf_local_latitude)\n",
    "outubroReduzido3$auinf_local_latitude<-as.numeric(outubroReduzido3$auinf_local_latitude)\n",
    "\n",
    "outubroReduzido3$auinf_local_longitude<-gsub(\",\",\".\",outubroReduzido3$auinf_local_longitude)\n",
    "outubroReduzido3$auinf_local_longitude<-as.numeric(outubroReduzido3$auinf_local_longitude)"
   ]
  },
  {
   "cell_type": "code",
   "execution_count": 20,
   "id": "c847e501",
   "metadata": {
    "executionInfo": {
     "elapsed": 2620,
     "status": "ok",
     "timestamp": 1621128731869,
     "user": {
      "displayName": "Fernando Roa",
      "photoUrl": "https://lh3.googleusercontent.com/a-/AOh14GiPwKFnlhQqdi7HFMrAATHUqQoo5XimDJCQgnjy1l4=s64",
      "userId": "14398145537161484377"
     },
     "user_tz": 300
    },
    "id": "c847e501"
   },
   "outputs": [],
   "source": [
    "coordePorLocal <-outubroReduzido3[, .(latM=median(auinf_local_latitude), lonM=median(auinf_local_longitude) )\n",
    "                 , by = localCombi ]"
   ]
  },
  {
   "cell_type": "markdown",
   "id": "6fa7b3de",
   "metadata": {
    "id": "6fa7b3de"
   },
   "source": [
    "### agora temos que juntar as duas tabelas"
   ]
  },
  {
   "cell_type": "code",
   "execution_count": 21,
   "id": "0b9e836d",
   "metadata": {
    "colab": {
     "base_uri": "https://localhost:8080/",
     "height": 0
    },
    "executionInfo": {
     "elapsed": 2611,
     "status": "ok",
     "timestamp": 1621128731870,
     "user": {
      "displayName": "Fernando Roa",
      "photoUrl": "https://lh3.googleusercontent.com/a-/AOh14GiPwKFnlhQqdi7HFMrAATHUqQoo5XimDJCQgnjy1l4=s64",
      "userId": "14398145537161484377"
     },
     "user_tz": 300
    },
    "id": "0b9e836d",
    "outputId": "e089b0d4-bfd0-4485-b234-c7b24cf2b829"
   },
   "outputs": [
    {
     "data": {
      "text/html": [
       "<table class=\"dataframe\">\n",
       "<caption>A data.table: 6 × 5</caption>\n",
       "<thead>\n",
       "\t<tr><th scope=col>localCombi</th><th scope=col>tipo_infracao</th><th scope=col>count</th><th scope=col>latM</th><th scope=col>lonM</th></tr>\n",
       "\t<tr><th scope=col>&lt;chr&gt;</th><th scope=col>&lt;chr&gt;</th><th scope=col>&lt;int&gt;</th><th scope=col>&lt;dbl&gt;</th><th scope=col>&lt;dbl&gt;</th></tr>\n",
       "</thead>\n",
       "<tbody>\n",
       "\t<tr><td>DF 180 KM 9 </td><td>5193-0</td><td>  1</td><td>-15.78821</td><td>-48.21257</td></tr>\n",
       "\t<tr><td>DF 095 KM 8 </td><td>6769-0</td><td>346</td><td>-15.78852</td><td>-48.01603</td></tr>\n",
       "\t<tr><td>DF 095 KM 8 </td><td>7315-0</td><td> 11</td><td>-15.78852</td><td>-48.01603</td></tr>\n",
       "\t<tr><td>DF 095 KM 7 </td><td>6599-2</td><td>  1</td><td>-15.78851</td><td>-48.01601</td></tr>\n",
       "\t<tr><td>DF 001 KM 79</td><td>6050-1</td><td>  2</td><td>-15.82377</td><td>-48.05556</td></tr>\n",
       "\t<tr><td>DF 001 KM 77</td><td>5819-6</td><td>194</td><td>-15.78839</td><td>-48.01611</td></tr>\n",
       "</tbody>\n",
       "</table>\n"
      ],
      "text/latex": [
       "A data.table: 6 × 5\n",
       "\\begin{tabular}{lllll}\n",
       " localCombi & tipo\\_infracao & count & latM & lonM\\\\\n",
       " <chr> & <chr> & <int> & <dbl> & <dbl>\\\\\n",
       "\\hline\n",
       "\t DF 180 KM 9  & 5193-0 &   1 & -15.78821 & -48.21257\\\\\n",
       "\t DF 095 KM 8  & 6769-0 & 346 & -15.78852 & -48.01603\\\\\n",
       "\t DF 095 KM 8  & 7315-0 &  11 & -15.78852 & -48.01603\\\\\n",
       "\t DF 095 KM 7  & 6599-2 &   1 & -15.78851 & -48.01601\\\\\n",
       "\t DF 001 KM 79 & 6050-1 &   2 & -15.82377 & -48.05556\\\\\n",
       "\t DF 001 KM 77 & 5819-6 & 194 & -15.78839 & -48.01611\\\\\n",
       "\\end{tabular}\n"
      ],
      "text/markdown": [
       "\n",
       "A data.table: 6 × 5\n",
       "\n",
       "| localCombi &lt;chr&gt; | tipo_infracao &lt;chr&gt; | count &lt;int&gt; | latM &lt;dbl&gt; | lonM &lt;dbl&gt; |\n",
       "|---|---|---|---|---|\n",
       "| DF 180 KM 9  | 5193-0 |   1 | -15.78821 | -48.21257 |\n",
       "| DF 095 KM 8  | 6769-0 | 346 | -15.78852 | -48.01603 |\n",
       "| DF 095 KM 8  | 7315-0 |  11 | -15.78852 | -48.01603 |\n",
       "| DF 095 KM 7  | 6599-2 |   1 | -15.78851 | -48.01601 |\n",
       "| DF 001 KM 79 | 6050-1 |   2 | -15.82377 | -48.05556 |\n",
       "| DF 001 KM 77 | 5819-6 | 194 | -15.78839 | -48.01611 |\n",
       "\n"
      ],
      "text/plain": [
       "  localCombi   tipo_infracao count latM      lonM     \n",
       "1 DF 180 KM 9  5193-0          1   -15.78821 -48.21257\n",
       "2 DF 095 KM 8  6769-0        346   -15.78852 -48.01603\n",
       "3 DF 095 KM 8  7315-0         11   -15.78852 -48.01603\n",
       "4 DF 095 KM 7  6599-2          1   -15.78851 -48.01601\n",
       "5 DF 001 KM 79 6050-1          2   -15.82377 -48.05556\n",
       "6 DF 001 KM 77 5819-6        194   -15.78839 -48.01611"
      ]
     },
     "metadata": {},
     "output_type": "display_data"
    }
   ],
   "source": [
    "#match criando colunas novas: os nomes dos data.tables sao intercalados\n",
    "                                          # coluna em comum localCombi\n",
    "infraPerLocal$latM <- coordePorLocal$latM[match(infraPerLocal$localCombi,\n",
    "                                              coordePorLocal$localCombi)]\n",
    "\n",
    "infraPerLocal$lonM <- coordePorLocal$lonM[match(infraPerLocal$localCombi,\n",
    "                                              coordePorLocal$localCombi)]\n",
    "head(infraPerLocal)"
   ]
  },
  {
   "cell_type": "markdown",
   "id": "a0190388",
   "metadata": {
    "id": "a0190388"
   },
   "source": [
    "### ordenar por incidencia"
   ]
  },
  {
   "cell_type": "code",
   "execution_count": 22,
   "id": "08ff297a",
   "metadata": {
    "colab": {
     "base_uri": "https://localhost:8080/",
     "height": 0
    },
    "executionInfo": {
     "elapsed": 2604,
     "status": "ok",
     "timestamp": 1621128731872,
     "user": {
      "displayName": "Fernando Roa",
      "photoUrl": "https://lh3.googleusercontent.com/a-/AOh14GiPwKFnlhQqdi7HFMrAATHUqQoo5XimDJCQgnjy1l4=s64",
      "userId": "14398145537161484377"
     },
     "user_tz": 300
    },
    "id": "08ff297a",
    "outputId": "2057378d-cf61-4377-d3a8-87c74f10d875"
   },
   "outputs": [
    {
     "data": {
      "text/html": [
       "<table class=\"dataframe\">\n",
       "<caption>A data.table: 6 × 5</caption>\n",
       "<thead>\n",
       "\t<tr><th scope=col>localCombi</th><th scope=col>tipo_infracao</th><th scope=col>count</th><th scope=col>latM</th><th scope=col>lonM</th></tr>\n",
       "\t<tr><th scope=col>&lt;chr&gt;</th><th scope=col>&lt;chr&gt;</th><th scope=col>&lt;int&gt;</th><th scope=col>&lt;dbl&gt;</th><th scope=col>&lt;dbl&gt;</th></tr>\n",
       "</thead>\n",
       "<tbody>\n",
       "\t<tr><td>DF 095 KM 8 </td><td>6769-0</td><td>346</td><td>-15.78852</td><td>-48.01603</td></tr>\n",
       "\t<tr><td>DF 001 KM 69</td><td>6769-0</td><td>288</td><td>-15.87611</td><td>-48.04854</td></tr>\n",
       "\t<tr><td>DF 001 KM 77</td><td>5819-6</td><td>194</td><td>-15.78839</td><td>-48.01611</td></tr>\n",
       "\t<tr><td>DF 001 KM 69</td><td>5681-0</td><td>167</td><td>-15.87611</td><td>-48.04854</td></tr>\n",
       "\t<tr><td>DF 085 KM 1 </td><td>7633-2</td><td>150</td><td>-15.80888</td><td>-47.95712</td></tr>\n",
       "\t<tr><td>DF 128 KM 3 </td><td>6769-0</td><td>140</td><td>-15.52834</td><td>-47.62253</td></tr>\n",
       "</tbody>\n",
       "</table>\n"
      ],
      "text/latex": [
       "A data.table: 6 × 5\n",
       "\\begin{tabular}{lllll}\n",
       " localCombi & tipo\\_infracao & count & latM & lonM\\\\\n",
       " <chr> & <chr> & <int> & <dbl> & <dbl>\\\\\n",
       "\\hline\n",
       "\t DF 095 KM 8  & 6769-0 & 346 & -15.78852 & -48.01603\\\\\n",
       "\t DF 001 KM 69 & 6769-0 & 288 & -15.87611 & -48.04854\\\\\n",
       "\t DF 001 KM 77 & 5819-6 & 194 & -15.78839 & -48.01611\\\\\n",
       "\t DF 001 KM 69 & 5681-0 & 167 & -15.87611 & -48.04854\\\\\n",
       "\t DF 085 KM 1  & 7633-2 & 150 & -15.80888 & -47.95712\\\\\n",
       "\t DF 128 KM 3  & 6769-0 & 140 & -15.52834 & -47.62253\\\\\n",
       "\\end{tabular}\n"
      ],
      "text/markdown": [
       "\n",
       "A data.table: 6 × 5\n",
       "\n",
       "| localCombi &lt;chr&gt; | tipo_infracao &lt;chr&gt; | count &lt;int&gt; | latM &lt;dbl&gt; | lonM &lt;dbl&gt; |\n",
       "|---|---|---|---|---|\n",
       "| DF 095 KM 8  | 6769-0 | 346 | -15.78852 | -48.01603 |\n",
       "| DF 001 KM 69 | 6769-0 | 288 | -15.87611 | -48.04854 |\n",
       "| DF 001 KM 77 | 5819-6 | 194 | -15.78839 | -48.01611 |\n",
       "| DF 001 KM 69 | 5681-0 | 167 | -15.87611 | -48.04854 |\n",
       "| DF 085 KM 1  | 7633-2 | 150 | -15.80888 | -47.95712 |\n",
       "| DF 128 KM 3  | 6769-0 | 140 | -15.52834 | -47.62253 |\n",
       "\n"
      ],
      "text/plain": [
       "  localCombi   tipo_infracao count latM      lonM     \n",
       "1 DF 095 KM 8  6769-0        346   -15.78852 -48.01603\n",
       "2 DF 001 KM 69 6769-0        288   -15.87611 -48.04854\n",
       "3 DF 001 KM 77 5819-6        194   -15.78839 -48.01611\n",
       "4 DF 001 KM 69 5681-0        167   -15.87611 -48.04854\n",
       "5 DF 085 KM 1  7633-2        150   -15.80888 -47.95712\n",
       "6 DF 128 KM 3  6769-0        140   -15.52834 -47.62253"
      ]
     },
     "metadata": {},
     "output_type": "display_data"
    }
   ],
   "source": [
    "head(infraPerLocal[order(count, decreasing = TRUE)] )"
   ]
  },
  {
   "cell_type": "code",
   "execution_count": 23,
   "id": "7f8d07a2-5e58-4440-a7f9-9c9949e4af09",
   "metadata": {
    "colab": {
     "base_uri": "https://localhost:8080/",
     "height": 0
    },
    "executionInfo": {
     "elapsed": 2595,
     "status": "ok",
     "timestamp": 1621128731873,
     "user": {
      "displayName": "Fernando Roa",
      "photoUrl": "https://lh3.googleusercontent.com/a-/AOh14GiPwKFnlhQqdi7HFMrAATHUqQoo5XimDJCQgnjy1l4=s64",
      "userId": "14398145537161484377"
     },
     "user_tz": 300
    },
    "id": "7f8d07a2-5e58-4440-a7f9-9c9949e4af09",
    "outputId": "b4e52363-642d-47d0-f8b2-921a886b3a3c"
   },
   "outputs": [
    {
     "data": {
      "text/html": [
       "<table class=\"dataframe\">\n",
       "<caption>A data.table: 6 × 5</caption>\n",
       "<thead>\n",
       "\t<tr><th scope=col>localCombi</th><th scope=col>tipo_infracao</th><th scope=col>count</th><th scope=col>latM</th><th scope=col>lonM</th></tr>\n",
       "\t<tr><th scope=col>&lt;chr&gt;</th><th scope=col>&lt;chr&gt;</th><th scope=col>&lt;int&gt;</th><th scope=col>&lt;dbl&gt;</th><th scope=col>&lt;dbl&gt;</th></tr>\n",
       "</thead>\n",
       "<tbody>\n",
       "\t<tr><td>DF 095 KM 8 </td><td>6769-0</td><td>346</td><td>-15.78852</td><td>-48.01603</td></tr>\n",
       "\t<tr><td>DF 001 KM 69</td><td>6769-0</td><td>288</td><td>-15.87611</td><td>-48.04854</td></tr>\n",
       "\t<tr><td>DF 001 KM 77</td><td>5819-6</td><td>194</td><td>-15.78839</td><td>-48.01611</td></tr>\n",
       "\t<tr><td>DF 001 KM 69</td><td>5681-0</td><td>167</td><td>-15.87611</td><td>-48.04854</td></tr>\n",
       "\t<tr><td>DF 085 KM 1 </td><td>7633-2</td><td>150</td><td>-15.80888</td><td>-47.95712</td></tr>\n",
       "\t<tr><td>DF 128 KM 3 </td><td>6769-0</td><td>140</td><td>-15.52834</td><td>-47.62253</td></tr>\n",
       "</tbody>\n",
       "</table>\n"
      ],
      "text/latex": [
       "A data.table: 6 × 5\n",
       "\\begin{tabular}{lllll}\n",
       " localCombi & tipo\\_infracao & count & latM & lonM\\\\\n",
       " <chr> & <chr> & <int> & <dbl> & <dbl>\\\\\n",
       "\\hline\n",
       "\t DF 095 KM 8  & 6769-0 & 346 & -15.78852 & -48.01603\\\\\n",
       "\t DF 001 KM 69 & 6769-0 & 288 & -15.87611 & -48.04854\\\\\n",
       "\t DF 001 KM 77 & 5819-6 & 194 & -15.78839 & -48.01611\\\\\n",
       "\t DF 001 KM 69 & 5681-0 & 167 & -15.87611 & -48.04854\\\\\n",
       "\t DF 085 KM 1  & 7633-2 & 150 & -15.80888 & -47.95712\\\\\n",
       "\t DF 128 KM 3  & 6769-0 & 140 & -15.52834 & -47.62253\\\\\n",
       "\\end{tabular}\n"
      ],
      "text/markdown": [
       "\n",
       "A data.table: 6 × 5\n",
       "\n",
       "| localCombi &lt;chr&gt; | tipo_infracao &lt;chr&gt; | count &lt;int&gt; | latM &lt;dbl&gt; | lonM &lt;dbl&gt; |\n",
       "|---|---|---|---|---|\n",
       "| DF 095 KM 8  | 6769-0 | 346 | -15.78852 | -48.01603 |\n",
       "| DF 001 KM 69 | 6769-0 | 288 | -15.87611 | -48.04854 |\n",
       "| DF 001 KM 77 | 5819-6 | 194 | -15.78839 | -48.01611 |\n",
       "| DF 001 KM 69 | 5681-0 | 167 | -15.87611 | -48.04854 |\n",
       "| DF 085 KM 1  | 7633-2 | 150 | -15.80888 | -47.95712 |\n",
       "| DF 128 KM 3  | 6769-0 | 140 | -15.52834 | -47.62253 |\n",
       "\n"
      ],
      "text/plain": [
       "  localCombi   tipo_infracao count latM      lonM     \n",
       "1 DF 095 KM 8  6769-0        346   -15.78852 -48.01603\n",
       "2 DF 001 KM 69 6769-0        288   -15.87611 -48.04854\n",
       "3 DF 001 KM 77 5819-6        194   -15.78839 -48.01611\n",
       "4 DF 001 KM 69 5681-0        167   -15.87611 -48.04854\n",
       "5 DF 085 KM 1  7633-2        150   -15.80888 -47.95712\n",
       "6 DF 128 KM 3  6769-0        140   -15.52834 -47.62253"
      ]
     },
     "metadata": {},
     "output_type": "display_data"
    }
   ],
   "source": [
    "infraPerLocalOr <- infraPerLocal[order(count, decreasing = TRUE)]\n",
    "head(infraPerLocalOr)"
   ]
  },
  {
   "cell_type": "markdown",
   "id": "517a37ad",
   "metadata": {
    "id": "517a37ad"
   },
   "source": [
    "### vamos pegar locais+infracao (coluna count) as maiores a 10 ocorrencias"
   ]
  },
  {
   "cell_type": "code",
   "execution_count": 24,
   "id": "12a13b00",
   "metadata": {
    "colab": {
     "base_uri": "https://localhost:8080/",
     "height": 0
    },
    "executionInfo": {
     "elapsed": 2586,
     "status": "ok",
     "timestamp": 1621128731874,
     "user": {
      "displayName": "Fernando Roa",
      "photoUrl": "https://lh3.googleusercontent.com/a-/AOh14GiPwKFnlhQqdi7HFMrAATHUqQoo5XimDJCQgnjy1l4=s64",
      "userId": "14398145537161484377"
     },
     "user_tz": 300
    },
    "id": "12a13b00",
    "outputId": "9f97880d-5247-407b-a49a-ec1c2f10e490"
   },
   "outputs": [
    {
     "data": {
      "text/html": [
       "<table class=\"dataframe\">\n",
       "<caption>A data.table: 6 × 5</caption>\n",
       "<thead>\n",
       "\t<tr><th scope=col>localCombi</th><th scope=col>tipo_infracao</th><th scope=col>count</th><th scope=col>latM</th><th scope=col>lonM</th></tr>\n",
       "\t<tr><th scope=col>&lt;chr&gt;</th><th scope=col>&lt;chr&gt;</th><th scope=col>&lt;int&gt;</th><th scope=col>&lt;dbl&gt;</th><th scope=col>&lt;dbl&gt;</th></tr>\n",
       "</thead>\n",
       "<tbody>\n",
       "\t<tr><td>DF 095 KM 8 </td><td>6769-0</td><td>346</td><td>-15.78852</td><td>-48.01603</td></tr>\n",
       "\t<tr><td>DF 001 KM 69</td><td>6769-0</td><td>288</td><td>-15.87611</td><td>-48.04854</td></tr>\n",
       "\t<tr><td>DF 001 KM 77</td><td>5819-6</td><td>194</td><td>-15.78839</td><td>-48.01611</td></tr>\n",
       "\t<tr><td>DF 001 KM 69</td><td>5681-0</td><td>167</td><td>-15.87611</td><td>-48.04854</td></tr>\n",
       "\t<tr><td>DF 085 KM 1 </td><td>7633-2</td><td>150</td><td>-15.80888</td><td>-47.95712</td></tr>\n",
       "\t<tr><td>DF 128 KM 3 </td><td>6769-0</td><td>140</td><td>-15.52834</td><td>-47.62253</td></tr>\n",
       "</tbody>\n",
       "</table>\n"
      ],
      "text/latex": [
       "A data.table: 6 × 5\n",
       "\\begin{tabular}{lllll}\n",
       " localCombi & tipo\\_infracao & count & latM & lonM\\\\\n",
       " <chr> & <chr> & <int> & <dbl> & <dbl>\\\\\n",
       "\\hline\n",
       "\t DF 095 KM 8  & 6769-0 & 346 & -15.78852 & -48.01603\\\\\n",
       "\t DF 001 KM 69 & 6769-0 & 288 & -15.87611 & -48.04854\\\\\n",
       "\t DF 001 KM 77 & 5819-6 & 194 & -15.78839 & -48.01611\\\\\n",
       "\t DF 001 KM 69 & 5681-0 & 167 & -15.87611 & -48.04854\\\\\n",
       "\t DF 085 KM 1  & 7633-2 & 150 & -15.80888 & -47.95712\\\\\n",
       "\t DF 128 KM 3  & 6769-0 & 140 & -15.52834 & -47.62253\\\\\n",
       "\\end{tabular}\n"
      ],
      "text/markdown": [
       "\n",
       "A data.table: 6 × 5\n",
       "\n",
       "| localCombi &lt;chr&gt; | tipo_infracao &lt;chr&gt; | count &lt;int&gt; | latM &lt;dbl&gt; | lonM &lt;dbl&gt; |\n",
       "|---|---|---|---|---|\n",
       "| DF 095 KM 8  | 6769-0 | 346 | -15.78852 | -48.01603 |\n",
       "| DF 001 KM 69 | 6769-0 | 288 | -15.87611 | -48.04854 |\n",
       "| DF 001 KM 77 | 5819-6 | 194 | -15.78839 | -48.01611 |\n",
       "| DF 001 KM 69 | 5681-0 | 167 | -15.87611 | -48.04854 |\n",
       "| DF 085 KM 1  | 7633-2 | 150 | -15.80888 | -47.95712 |\n",
       "| DF 128 KM 3  | 6769-0 | 140 | -15.52834 | -47.62253 |\n",
       "\n"
      ],
      "text/plain": [
       "  localCombi   tipo_infracao count latM      lonM     \n",
       "1 DF 095 KM 8  6769-0        346   -15.78852 -48.01603\n",
       "2 DF 001 KM 69 6769-0        288   -15.87611 -48.04854\n",
       "3 DF 001 KM 77 5819-6        194   -15.78839 -48.01611\n",
       "4 DF 001 KM 69 5681-0        167   -15.87611 -48.04854\n",
       "5 DF 085 KM 1  7633-2        150   -15.80888 -47.95712\n",
       "6 DF 128 KM 3  6769-0        140   -15.52834 -47.62253"
      ]
     },
     "metadata": {},
     "output_type": "display_data"
    }
   ],
   "source": [
    "infraPerLocalOr10 <- infraPerLocalOr[which(count>=10)]\n",
    "head(infraPerLocalOr10)"
   ]
  },
  {
   "cell_type": "markdown",
   "id": "67b5ec18",
   "metadata": {
    "id": "67b5ec18"
   },
   "source": [
    "### tipos de infracao mais frequentes"
   ]
  },
  {
   "cell_type": "code",
   "execution_count": 25,
   "id": "471f9279-b912-4e01-a81b-31b522763a24",
   "metadata": {
    "colab": {
     "base_uri": "https://localhost:8080/",
     "height": 271
    },
    "executionInfo": {
     "elapsed": 2571,
     "status": "ok",
     "timestamp": 1621128731876,
     "user": {
      "displayName": "Fernando Roa",
      "photoUrl": "https://lh3.googleusercontent.com/a-/AOh14GiPwKFnlhQqdi7HFMrAATHUqQoo5XimDJCQgnjy1l4=s64",
      "userId": "14398145537161484377"
     },
     "user_tz": 300
    },
    "id": "471f9279-b912-4e01-a81b-31b522763a24",
    "outputId": "783e16f9-e51c-48b8-da09-0f1c22c5b40b"
   },
   "outputs": [
    {
     "data": {
      "text/html": [
       "<table class=\"dataframe\">\n",
       "<caption>A data.table: 6 × 2</caption>\n",
       "<thead>\n",
       "\t<tr><th scope=col>tipo_infracao</th><th scope=col>count</th></tr>\n",
       "\t<tr><th scope=col>&lt;chr&gt;</th><th scope=col>&lt;int&gt;</th></tr>\n",
       "</thead>\n",
       "<tbody>\n",
       "\t<tr><td>6769-0</td><td>19</td></tr>\n",
       "\t<tr><td>5819-6</td><td> 3</td></tr>\n",
       "\t<tr><td>5681-0</td><td> 7</td></tr>\n",
       "\t<tr><td>7633-2</td><td>16</td></tr>\n",
       "\t<tr><td>5690-0</td><td> 2</td></tr>\n",
       "\t<tr><td>5843-4</td><td> 8</td></tr>\n",
       "</tbody>\n",
       "</table>\n"
      ],
      "text/latex": [
       "A data.table: 6 × 2\n",
       "\\begin{tabular}{ll}\n",
       " tipo\\_infracao & count\\\\\n",
       " <chr> & <int>\\\\\n",
       "\\hline\n",
       "\t 6769-0 & 19\\\\\n",
       "\t 5819-6 &  3\\\\\n",
       "\t 5681-0 &  7\\\\\n",
       "\t 7633-2 & 16\\\\\n",
       "\t 5690-0 &  2\\\\\n",
       "\t 5843-4 &  8\\\\\n",
       "\\end{tabular}\n"
      ],
      "text/markdown": [
       "\n",
       "A data.table: 6 × 2\n",
       "\n",
       "| tipo_infracao &lt;chr&gt; | count &lt;int&gt; |\n",
       "|---|---|\n",
       "| 6769-0 | 19 |\n",
       "| 5819-6 |  3 |\n",
       "| 5681-0 |  7 |\n",
       "| 7633-2 | 16 |\n",
       "| 5690-0 |  2 |\n",
       "| 5843-4 |  8 |\n",
       "\n"
      ],
      "text/plain": [
       "  tipo_infracao count\n",
       "1 6769-0        19   \n",
       "2 5819-6         3   \n",
       "3 5681-0         7   \n",
       "4 7633-2        16   \n",
       "5 5690-0         2   \n",
       "6 5843-4         8   "
      ]
     },
     "metadata": {},
     "output_type": "display_data"
    }
   ],
   "source": [
    "head(infraPerLocalOr10[, .(count = .N), by = tipo_infracao ])"
   ]
  },
  {
   "cell_type": "code",
   "execution_count": 26,
   "id": "76497f0a-a9f4-416f-949c-494590b7ebd8",
   "metadata": {
    "colab": {
     "base_uri": "https://localhost:8080/",
     "height": 271
    },
    "executionInfo": {
     "elapsed": 2777,
     "status": "ok",
     "timestamp": 1621128732095,
     "user": {
      "displayName": "Fernando Roa",
      "photoUrl": "https://lh3.googleusercontent.com/a-/AOh14GiPwKFnlhQqdi7HFMrAATHUqQoo5XimDJCQgnjy1l4=s64",
      "userId": "14398145537161484377"
     },
     "user_tz": 300
    },
    "id": "76497f0a-a9f4-416f-949c-494590b7ebd8",
    "outputId": "06243c3b-4837-417f-cf9b-67581f497520"
   },
   "outputs": [
    {
     "data": {
      "text/html": [
       "<table class=\"dataframe\">\n",
       "<caption>A data.table: 6 × 2</caption>\n",
       "<thead>\n",
       "\t<tr><th scope=col>tipo_infracao</th><th scope=col>count</th></tr>\n",
       "\t<tr><th scope=col>&lt;chr&gt;</th><th scope=col>&lt;int&gt;</th></tr>\n",
       "</thead>\n",
       "<tbody>\n",
       "\t<tr><td>7633-1</td><td>20</td></tr>\n",
       "\t<tr><td>6769-0</td><td>19</td></tr>\n",
       "\t<tr><td>7633-2</td><td>16</td></tr>\n",
       "\t<tr><td>5185-1</td><td>15</td></tr>\n",
       "\t<tr><td>5843-4</td><td> 8</td></tr>\n",
       "\t<tr><td>7579-0</td><td> 8</td></tr>\n",
       "</tbody>\n",
       "</table>\n"
      ],
      "text/latex": [
       "A data.table: 6 × 2\n",
       "\\begin{tabular}{ll}\n",
       " tipo\\_infracao & count\\\\\n",
       " <chr> & <int>\\\\\n",
       "\\hline\n",
       "\t 7633-1 & 20\\\\\n",
       "\t 6769-0 & 19\\\\\n",
       "\t 7633-2 & 16\\\\\n",
       "\t 5185-1 & 15\\\\\n",
       "\t 5843-4 &  8\\\\\n",
       "\t 7579-0 &  8\\\\\n",
       "\\end{tabular}\n"
      ],
      "text/markdown": [
       "\n",
       "A data.table: 6 × 2\n",
       "\n",
       "| tipo_infracao &lt;chr&gt; | count &lt;int&gt; |\n",
       "|---|---|\n",
       "| 7633-1 | 20 |\n",
       "| 6769-0 | 19 |\n",
       "| 7633-2 | 16 |\n",
       "| 5185-1 | 15 |\n",
       "| 5843-4 |  8 |\n",
       "| 7579-0 |  8 |\n",
       "\n"
      ],
      "text/plain": [
       "  tipo_infracao count\n",
       "1 7633-1        20   \n",
       "2 6769-0        19   \n",
       "3 7633-2        16   \n",
       "4 5185-1        15   \n",
       "5 5843-4         8   \n",
       "6 7579-0         8   "
      ]
     },
     "metadata": {},
     "output_type": "display_data"
    }
   ],
   "source": [
    "head(infraPerLocalOr10[, .(count = .N), by = tipo_infracao ][order(-count)] )\n"
   ]
  },
  {
   "cell_type": "code",
   "execution_count": 27,
   "id": "ed7e919a-0155-49ff-938b-a12fdbcae74b",
   "metadata": {
    "colab": {
     "base_uri": "https://localhost:8080/",
     "height": 271
    },
    "executionInfo": {
     "elapsed": 2763,
     "status": "ok",
     "timestamp": 1621128732096,
     "user": {
      "displayName": "Fernando Roa",
      "photoUrl": "https://lh3.googleusercontent.com/a-/AOh14GiPwKFnlhQqdi7HFMrAATHUqQoo5XimDJCQgnjy1l4=s64",
      "userId": "14398145537161484377"
     },
     "user_tz": 300
    },
    "id": "ed7e919a-0155-49ff-938b-a12fdbcae74b",
    "outputId": "05b9b8bb-701f-4378-cf3e-b7120722cc9a"
   },
   "outputs": [
    {
     "data": {
      "text/html": [
       "<table class=\"dataframe\">\n",
       "<caption>A data.table: 6 × 2</caption>\n",
       "<thead>\n",
       "\t<tr><th scope=col>tipo_infracao</th><th scope=col>count</th></tr>\n",
       "\t<tr><th scope=col>&lt;chr&gt;</th><th scope=col>&lt;int&gt;</th></tr>\n",
       "</thead>\n",
       "<tbody>\n",
       "\t<tr><td>7633-1</td><td>20</td></tr>\n",
       "\t<tr><td>6769-0</td><td>19</td></tr>\n",
       "\t<tr><td>7633-2</td><td>16</td></tr>\n",
       "\t<tr><td>5185-1</td><td>15</td></tr>\n",
       "\t<tr><td>5843-4</td><td> 8</td></tr>\n",
       "\t<tr><td>7579-0</td><td> 8</td></tr>\n",
       "</tbody>\n",
       "</table>\n"
      ],
      "text/latex": [
       "A data.table: 6 × 2\n",
       "\\begin{tabular}{ll}\n",
       " tipo\\_infracao & count\\\\\n",
       " <chr> & <int>\\\\\n",
       "\\hline\n",
       "\t 7633-1 & 20\\\\\n",
       "\t 6769-0 & 19\\\\\n",
       "\t 7633-2 & 16\\\\\n",
       "\t 5185-1 & 15\\\\\n",
       "\t 5843-4 &  8\\\\\n",
       "\t 7579-0 &  8\\\\\n",
       "\\end{tabular}\n"
      ],
      "text/markdown": [
       "\n",
       "A data.table: 6 × 2\n",
       "\n",
       "| tipo_infracao &lt;chr&gt; | count &lt;int&gt; |\n",
       "|---|---|\n",
       "| 7633-1 | 20 |\n",
       "| 6769-0 | 19 |\n",
       "| 7633-2 | 16 |\n",
       "| 5185-1 | 15 |\n",
       "| 5843-4 |  8 |\n",
       "| 7579-0 |  8 |\n",
       "\n"
      ],
      "text/plain": [
       "  tipo_infracao count\n",
       "1 7633-1        20   \n",
       "2 6769-0        19   \n",
       "3 7633-2        16   \n",
       "4 5185-1        15   \n",
       "5 5843-4         8   \n",
       "6 7579-0         8   "
      ]
     },
     "metadata": {},
     "output_type": "display_data"
    }
   ],
   "source": [
    "head(infraPerLocalOr10[, .(count = .N), by = tipo_infracao ][order(-count)][1:11])\n"
   ]
  },
  {
   "cell_type": "code",
   "execution_count": 28,
   "id": "ac36b515-173a-4f4f-a2e6-6e57c5e41ae9",
   "metadata": {
    "colab": {
     "base_uri": "https://localhost:8080/",
     "height": 34
    },
    "executionInfo": {
     "elapsed": 2749,
     "status": "ok",
     "timestamp": 1621128732097,
     "user": {
      "displayName": "Fernando Roa",
      "photoUrl": "https://lh3.googleusercontent.com/a-/AOh14GiPwKFnlhQqdi7HFMrAATHUqQoo5XimDJCQgnjy1l4=s64",
      "userId": "14398145537161484377"
     },
     "user_tz": 300
    },
    "id": "ac36b515-173a-4f4f-a2e6-6e57c5e41ae9",
    "outputId": "9c88a3cf-7938-489d-b556-5c4180f2445f"
   },
   "outputs": [
    {
     "data": {
      "text/html": [
       "<style>\n",
       ".list-inline {list-style: none; margin:0; padding: 0}\n",
       ".list-inline>li {display: inline-block}\n",
       ".list-inline>li:not(:last-child)::after {content: \"\\00b7\"; padding: 0 .5ex}\n",
       "</style>\n",
       "<ol class=list-inline><li>'7633-1'</li><li>'6769-0'</li><li>'7633-2'</li><li>'5185-1'</li><li>'5843-4'</li><li>'7579-0'</li><li>'5681-0'</li><li>'7366-2'</li><li>'6068-1'</li><li>'5185-2'</li><li>'5169-1'</li></ol>\n"
      ],
      "text/latex": [
       "\\begin{enumerate*}\n",
       "\\item '7633-1'\n",
       "\\item '6769-0'\n",
       "\\item '7633-2'\n",
       "\\item '5185-1'\n",
       "\\item '5843-4'\n",
       "\\item '7579-0'\n",
       "\\item '5681-0'\n",
       "\\item '7366-2'\n",
       "\\item '6068-1'\n",
       "\\item '5185-2'\n",
       "\\item '5169-1'\n",
       "\\end{enumerate*}\n"
      ],
      "text/markdown": [
       "1. '7633-1'\n",
       "2. '6769-0'\n",
       "3. '7633-2'\n",
       "4. '5185-1'\n",
       "5. '5843-4'\n",
       "6. '7579-0'\n",
       "7. '5681-0'\n",
       "8. '7366-2'\n",
       "9. '6068-1'\n",
       "10. '5185-2'\n",
       "11. '5169-1'\n",
       "\n",
       "\n"
      ],
      "text/plain": [
       " [1] \"7633-1\" \"6769-0\" \"7633-2\" \"5185-1\" \"5843-4\" \"7579-0\" \"5681-0\" \"7366-2\"\n",
       " [9] \"6068-1\" \"5185-2\" \"5169-1\""
      ]
     },
     "metadata": {},
     "output_type": "display_data"
    }
   ],
   "source": [
    "infraSel <- infraPerLocalOr10[, .(count = .N), by = tipo_infracao ][order(-count)][1:11]$tipo_infracao\n",
    "\n",
    "infraSel"
   ]
  },
  {
   "cell_type": "code",
   "execution_count": 29,
   "id": "0542714d",
   "metadata": {
    "colab": {
     "base_uri": "https://localhost:8080/",
     "height": 271
    },
    "executionInfo": {
     "elapsed": 2725,
     "status": "ok",
     "timestamp": 1621128732098,
     "user": {
      "displayName": "Fernando Roa",
      "photoUrl": "https://lh3.googleusercontent.com/a-/AOh14GiPwKFnlhQqdi7HFMrAATHUqQoo5XimDJCQgnjy1l4=s64",
      "userId": "14398145537161484377"
     },
     "user_tz": 300
    },
    "id": "0542714d",
    "outputId": "31708066-5018-4945-d568-02ecbec97837"
   },
   "outputs": [
    {
     "data": {
      "text/html": [
       "<table class=\"dataframe\">\n",
       "<caption>A data.table: 6 × 5</caption>\n",
       "<thead>\n",
       "\t<tr><th scope=col>localCombi</th><th scope=col>tipo_infracao</th><th scope=col>count</th><th scope=col>latM</th><th scope=col>lonM</th></tr>\n",
       "\t<tr><th scope=col>&lt;chr&gt;</th><th scope=col>&lt;chr&gt;</th><th scope=col>&lt;int&gt;</th><th scope=col>&lt;dbl&gt;</th><th scope=col>&lt;dbl&gt;</th></tr>\n",
       "</thead>\n",
       "<tbody>\n",
       "\t<tr><td>DF 095 KM 8 </td><td>6769-0</td><td>346</td><td>-15.78852</td><td>-48.01603</td></tr>\n",
       "\t<tr><td>DF 001 KM 69</td><td>6769-0</td><td>288</td><td>-15.87611</td><td>-48.04854</td></tr>\n",
       "\t<tr><td>DF 001 KM 69</td><td>5681-0</td><td>167</td><td>-15.87611</td><td>-48.04854</td></tr>\n",
       "\t<tr><td>DF 085 KM 1 </td><td>7633-2</td><td>150</td><td>-15.80888</td><td>-47.95712</td></tr>\n",
       "\t<tr><td>DF 128 KM 3 </td><td>6769-0</td><td>140</td><td>-15.52834</td><td>-47.62253</td></tr>\n",
       "\t<tr><td>DF 095 KM 8 </td><td>5843-4</td><td>123</td><td>-15.78852</td><td>-48.01603</td></tr>\n",
       "</tbody>\n",
       "</table>\n"
      ],
      "text/latex": [
       "A data.table: 6 × 5\n",
       "\\begin{tabular}{lllll}\n",
       " localCombi & tipo\\_infracao & count & latM & lonM\\\\\n",
       " <chr> & <chr> & <int> & <dbl> & <dbl>\\\\\n",
       "\\hline\n",
       "\t DF 095 KM 8  & 6769-0 & 346 & -15.78852 & -48.01603\\\\\n",
       "\t DF 001 KM 69 & 6769-0 & 288 & -15.87611 & -48.04854\\\\\n",
       "\t DF 001 KM 69 & 5681-0 & 167 & -15.87611 & -48.04854\\\\\n",
       "\t DF 085 KM 1  & 7633-2 & 150 & -15.80888 & -47.95712\\\\\n",
       "\t DF 128 KM 3  & 6769-0 & 140 & -15.52834 & -47.62253\\\\\n",
       "\t DF 095 KM 8  & 5843-4 & 123 & -15.78852 & -48.01603\\\\\n",
       "\\end{tabular}\n"
      ],
      "text/markdown": [
       "\n",
       "A data.table: 6 × 5\n",
       "\n",
       "| localCombi &lt;chr&gt; | tipo_infracao &lt;chr&gt; | count &lt;int&gt; | latM &lt;dbl&gt; | lonM &lt;dbl&gt; |\n",
       "|---|---|---|---|---|\n",
       "| DF 095 KM 8  | 6769-0 | 346 | -15.78852 | -48.01603 |\n",
       "| DF 001 KM 69 | 6769-0 | 288 | -15.87611 | -48.04854 |\n",
       "| DF 001 KM 69 | 5681-0 | 167 | -15.87611 | -48.04854 |\n",
       "| DF 085 KM 1  | 7633-2 | 150 | -15.80888 | -47.95712 |\n",
       "| DF 128 KM 3  | 6769-0 | 140 | -15.52834 | -47.62253 |\n",
       "| DF 095 KM 8  | 5843-4 | 123 | -15.78852 | -48.01603 |\n",
       "\n"
      ],
      "text/plain": [
       "  localCombi   tipo_infracao count latM      lonM     \n",
       "1 DF 095 KM 8  6769-0        346   -15.78852 -48.01603\n",
       "2 DF 001 KM 69 6769-0        288   -15.87611 -48.04854\n",
       "3 DF 001 KM 69 5681-0        167   -15.87611 -48.04854\n",
       "4 DF 085 KM 1  7633-2        150   -15.80888 -47.95712\n",
       "5 DF 128 KM 3  6769-0        140   -15.52834 -47.62253\n",
       "6 DF 095 KM 8  5843-4        123   -15.78852 -48.01603"
      ]
     },
     "metadata": {},
     "output_type": "display_data"
    }
   ],
   "source": [
    "infraPerLocalOr10Sel <- infraPerLocalOr10[which(infraPerLocalOr10$tipo_infracao %in% infraSel)]\n",
    "head(infraPerLocalOr10Sel)"
   ]
  },
  {
   "cell_type": "markdown",
   "id": "5de735d7",
   "metadata": {
    "id": "5de735d7"
   },
   "source": [
    "### usando leaflet"
   ]
  },
  {
   "cell_type": "code",
   "execution_count": 30,
   "id": "9c8284e8",
   "metadata": {
    "colab": {
     "base_uri": "https://localhost:8080/",
     "height": 34
    },
    "executionInfo": {
     "elapsed": 2705,
     "status": "ok",
     "timestamp": 1621128732099,
     "user": {
      "displayName": "Fernando Roa",
      "photoUrl": "https://lh3.googleusercontent.com/a-/AOh14GiPwKFnlhQqdi7HFMrAATHUqQoo5XimDJCQgnjy1l4=s64",
      "userId": "14398145537161484377"
     },
     "user_tz": 300
    },
    "id": "9c8284e8",
    "outputId": "7ba737ef-2fd3-4016-8aca-b3abbeaede5a"
   },
   "outputs": [
    {
     "data": {
      "text/html": [
       "<style>\n",
       ".list-inline {list-style: none; margin:0; padding: 0}\n",
       ".list-inline>li {display: inline-block}\n",
       ".list-inline>li:not(:last-child)::after {content: \"\\00b7\"; padding: 0 .5ex}\n",
       "</style>\n",
       "<ol class=list-inline><li>'localCombi'</li><li>'tipo_infracao'</li><li>'count'</li><li>'latM'</li><li>'lonM'</li></ol>\n"
      ],
      "text/latex": [
       "\\begin{enumerate*}\n",
       "\\item 'localCombi'\n",
       "\\item 'tipo\\_infracao'\n",
       "\\item 'count'\n",
       "\\item 'latM'\n",
       "\\item 'lonM'\n",
       "\\end{enumerate*}\n"
      ],
      "text/markdown": [
       "1. 'localCombi'\n",
       "2. 'tipo_infracao'\n",
       "3. 'count'\n",
       "4. 'latM'\n",
       "5. 'lonM'\n",
       "\n",
       "\n"
      ],
      "text/plain": [
       "[1] \"localCombi\"    \"tipo_infracao\" \"count\"         \"latM\"         \n",
       "[5] \"lonM\"         "
      ]
     },
     "metadata": {},
     "output_type": "display_data"
    }
   ],
   "source": [
    "if (system.file(package = \"leaflet\") == '') {\n",
    "              install.packages(\"leaflet\")\n",
    "}\n",
    "\n",
    "# install.packages(\"leaflet\")\n",
    "library(leaflet)\n",
    "\n",
    "colnames(infraPerLocalOr10Sel)\n",
    "\n",
    "# definir colores para infracoes\n",
    "mycolors <- colorFactor(palette = c('forestgreen', 'red2', 'orange', 'cornflowerblue', \n",
    "                                   'magenta', 'darkolivegreen4', 'indianred1', 'tan4', 'darkblue', \n",
    "                                   'wheat4','firebrick4')\n",
    "                       , unique(infraPerLocalOr10Sel$tipo_infracao)\n",
    "                       )"
   ]
  },
  {
   "cell_type": "code",
   "execution_count": 31,
   "id": "64cbb06a-0264-42ce-b8d5-529294e6cc83",
   "metadata": {
    "colab": {
     "base_uri": "https://localhost:8080/",
     "height": 667
    },
    "executionInfo": {
     "elapsed": 5935,
     "status": "ok",
     "timestamp": 1621128735360,
     "user": {
      "displayName": "Fernando Roa",
      "photoUrl": "https://lh3.googleusercontent.com/a-/AOh14GiPwKFnlhQqdi7HFMrAATHUqQoo5XimDJCQgnjy1l4=s64",
      "userId": "14398145537161484377"
     },
     "user_tz": 300
    },
    "id": "914275c2",
    "outputId": "1d38001e-2704-4286-d6b1-f2bd91b87b14"
   },
   "outputs": [],
   "source": [
    "if (system.file(package = \"leaflet\") == '') {\n",
    "              install.packages(\"leaflet\")\n",
    "}\n",
    "if (system.file(package = \"IRdisplay\") == '') {\n",
    "              install.packages(\"IRdispla\")\n",
    "}\n",
    "if (system.file(package = \"htmlwidgets\") == '') {\n",
    "              install.packages(\"htmlwidgets\")\n",
    "}\n",
    "\n",
    "library(htmlwidgets) # saveWidget\n",
    "library(IRdisplay)   # display_html\n",
    "library(leaflet)"
   ]
  },
  {
   "cell_type": "code",
   "execution_count": 37,
   "id": "9d29383a-81f6-4c58-988d-52c10cea6183",
   "metadata": {},
   "outputs": [
    {
     "data": {
      "text/html": [
       "<iframe src=\"demo1.html\" width=\"500\" height =\"300\"></iframe>"
      ]
     },
     "metadata": {},
     "output_type": "display_data"
    }
   ],
   "source": [
    "m = leaflet(data = infraPerLocalOr10Sel) %>% \n",
    "#addTiles() %>%\n",
    "addTiles(urlTemplate = \"http://{s}.tile.openstreetmap.org/{z}/{x}/{y}.png\") %>% # colab compatibility\n",
    "addCircleMarkers(~lonM, ~latM,\n",
    "  radius = ~ sqrt(count),\n",
    "  fillColor = ~mycolors(tipo_infracao),\n",
    "  label = ~as.character(localCombi)\n",
    "  , stroke = FALSE\n",
    "  , fillOpacity = 0.7\n",
    ") %>% addLegend('bottomright', \n",
    "          pal = mycolors, \n",
    "          values = ~tipo_infracao,\n",
    "          title = 'tipos',\n",
    "          opacity = 1)\n",
    "\n",
    "saveWidget(m, 'demo1.html', selfcontained = TRUE)\n",
    "\n",
    "# cuidado colocar FALSE fora de colab\n",
    "IaminColab <- TRUE\n",
    "\n",
    "if(IaminColab){\n",
    "  demo<-readLines(\"demo1.html\")\n",
    "  demo<-gsub(\"%\",\"%25\",demo)\n",
    "  demo<-gsub(\"#\",\"%23\",demo)\n",
    "  demo<-gsub(\"\\\"\",\"%22\",demo)\n",
    "  demo<-gsub(\"'\" ,\"%27\",demo)\n",
    "  demo<-gsub(\"\\\\n\" ,\"\",demo)\n",
    "  demo<-paste(demo, collapse=\"\")\n",
    "  display_html(paste0('<iframe src=',\"\\\"data:text/html;charset=UTF-8,\",demo,\" \\\" height=\\\"400\\\" width=\\\"600\\\"></iframe>\") )\n",
    "} else { # JUPYTER\n",
    "  display_html('<iframe src=\"demo1.html\" width=\"500\" height =\"300\"></iframe>')\n",
    "}"
   ]
  }
 ],
 "metadata": {
  "colab": {
   "name": "Copy of main1.ipynb",
   "provenance": [
    {
     "file_id": "https://github.com/ferroao/janejupy/blob/main/main1.ipynb",
     "timestamp": 1621124503987
    }
   ],
   "toc_visible": true
  },
  "kernelspec": {
   "display_name": "R",
   "language": "R",
   "name": "ir"
  },
  "language_info": {
   "codemirror_mode": "r",
   "file_extension": ".r",
   "mimetype": "text/x-r-source",
   "name": "R",
   "pygments_lexer": "r",
   "version": "4.0.5"
  }
 },
 "nbformat": 4,
 "nbformat_minor": 5
}
